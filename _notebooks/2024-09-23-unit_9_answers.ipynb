{
 "cells": [
  {
   "cell_type": "markdown",
   "metadata": {},
   "source": [
    "## Unit 9 Java Inheritance"
   ]
  },
  {
   "cell_type": "markdown",
   "metadata": {},
   "source": [
    "### 9.1 Hacks"
   ]
  },
  {
   "cell_type": "markdown",
   "metadata": {},
   "source": [
    "#### Implement two new subclasses, Circle and Hexagon, extending from the Shape class. Each shape should have a method to calculate its area and should override the print_something() method to print something unique for that shape. Follow the same structure as the Rectangle and Triangle classes!\n",
    "\n"
   ]
  },
  {
   "cell_type": "code",
   "execution_count": null,
   "metadata": {
    "vscode": {
     "languageId": "java"
    }
   },
   "outputs": [],
   "source": [
    "public class Circle extends Shape {\n",
    "    private double radius;\n",
    "\n",
    "    public Circle() {\n",
    "        super(\"Circle\", 0, 0);\n",
    "        this.radius = 5;\n",
    "    }\n",
    "\n",
    "    public Circle(String name, double radius) {\n",
    "        super(name, 0, 0);\n",
    "        this.radius = radius;\n",
    "    }\n",
    "\n",
    "    @Override\n",
    "    public double calc_area() {\n",
    "        return Math.PI * Math.pow(this.radius, 2);\n",
    "    }\n",
    "\n",
    "    @Override\n",
    "    public void print_something() {\n",
    "        System.out.println(\"This is a circle\");\n",
    "    }\n",
    "}\n",
    "\n",
    "public class Hexagon extends Shape {\n",
    "    public Hexagon() {\n",
    "        super(\"Hexagon\", 0, 0);\n",
    "    }\n",
    "\n",
    "    public Hexagon(String name) {\n",
    "        super(name, 0, 0);\n",
    "    }\n",
    "\n",
    "    @Override\n",
    "    public double calc_area() {\n",
    "        return (3 * Math.sqrt(3) * Math.pow((get_length() / 2.0), 2)) / 2;\n",
    "    }\n",
    "\n",
    "    @Override\n",
    "    public void print_something() {\n",
    "        System.out.println(\"This is a hexagon\");\n",
    "    }\n",
    "}\n"
   ]
  },
  {
   "cell_type": "markdown",
   "metadata": {},
   "source": [
    "### 9.3 Hacks"
   ]
  },
  {
   "cell_type": "markdown",
   "metadata": {},
   "source": [
    "#### Lets re-define the Triangle class but this time override the default area method with the Heron’s formula\n",
    "\n"
   ]
  },
  {
   "cell_type": "code",
   "execution_count": null,
   "metadata": {
    "vscode": {
     "languageId": "java"
    }
   },
   "outputs": [],
   "source": [
    "@Override\n",
    "public double calc_area() {\n",
    "    \n",
    "    double s = (side1 + side2 + side3) / 2.0;\n",
    "\n",
    "    double area = Math.sqrt(s * (s - side1) * (s - side2) * (s - side3));\n",
    "\n",
    "    return area;\n",
    "}\n"
   ]
  },
  {
   "cell_type": "markdown",
   "metadata": {},
   "source": [
    "#### Important Notes \n",
    "\n",
    "1. Using the final keyword in the parent method will make that method unable to be overridden\n",
    "2. Methods can be overidden to give more access but cannot restrict acces: private -> public, but not public -> private\n",
    "3. Use of @Override is highly encouraged\n"
   ]
  },
  {
   "cell_type": "markdown",
   "metadata": {},
   "source": [
    "#### Re-write the Triangle sublcass so that it also overrides the calc_perimeter()\n",
    "\n"
   ]
  },
  {
   "cell_type": "code",
   "execution_count": null,
   "metadata": {
    "vscode": {
     "languageId": "java"
    }
   },
   "outputs": [],
   "source": [
    "public class Triangle extends Shape {\n",
    "    private int side1;\n",
    "    private int side2;\n",
    "    private int side3;\n",
    "\n",
    "    public Triangle() {\n",
    "        this.name = \"triangle\";\n",
    "        this.side1 = 1;\n",
    "        this.side2 = 2;\n",
    "        this.side3 = 3;\n",
    "    }\n",
    "\n",
    "    public Triangle(String name, int s1, int s2, int s3) {\n",
    "        super(name, 0, 0); \n",
    "        this.name = \"triangle\";\n",
    "        this.side1 = s1;\n",
    "        this.side2 = s2;\n",
    "        this.side3 = s3;\n",
    "    }\n",
    "\n",
    "    @Override\n",
    "    public double calc_area() {\n",
    "\n",
    "        double s = (side1 + side2 + side3) / 2.0;\n",
    "\n",
    "        double area = Math.sqrt(s * (s - side1) * (s - side2) * (s - side3));\n",
    "\n",
    "        return area;\n",
    "    }\n",
    "\n",
    "    @Override\n",
    "    public double calc_perimeter() {\n",
    "        \n",
    "        return side1 + side2 + side3;\n",
    "    }\n",
    "}\n"
   ]
  },
  {
   "cell_type": "markdown",
   "metadata": {},
   "source": [
    "### 9.5 Hacks"
   ]
  },
  {
   "cell_type": "markdown",
   "metadata": {},
   "source": [
    "#### Let’s implement the Triangle subclass to deepen your understanding. Below is a half-completed method for the Triangle class. Your task is to complete the draw method:\n",
    "\n"
   ]
  },
  {
   "cell_type": "code",
   "execution_count": null,
   "metadata": {
    "vscode": {
     "languageId": "java"
    }
   },
   "outputs": [],
   "source": [
    "class Shape {\n",
    "    public String draw() {\n",
    "        return \"Drawing a shape\";\n",
    "    }\n",
    "}\n",
    "\n",
    "class Triangle extends Shape {\n",
    "    @Override\n",
    "    public String draw() {\n",
    "        return \"Drawing a triangle\";\n",
    "    }\n",
    "}\n",
    "\n",
    "public class Main {\n",
    "    public static void main(String[] args) {\n",
    "        Shape myTriangle = new Triangle();\n",
    "        System.out.println(myTriangle.draw()); // Should output: \"Drawing a triangle.\"\n",
    "    }\n",
    "}\n"
   ]
  },
  {
   "cell_type": "markdown",
   "metadata": {},
   "source": [
    "#### Next, let’s implement the Rectangle subclass. Below is the basic setup for it. Your task is to implement the draw method for the Rectangle class:\n",
    "\n"
   ]
  },
  {
   "cell_type": "code",
   "execution_count": null,
   "metadata": {
    "vscode": {
     "languageId": "java"
    }
   },
   "outputs": [],
   "source": [
    "class Rectangle extends Shape {\n",
    "    @Override\n",
    "    public String draw() {\n",
    "        return \"Drawing a rectangle\";\n",
    "    }\n",
    "}\n",
    "\n",
    "public class Main {\n",
    "    public static void main(String[] args) {\n",
    "        Shape myRectangle = new Rectangle();\n",
    "        System.out.println(myRectangle.draw()); \n",
    "    }\n",
    "}\n"
   ]
  },
  {
   "cell_type": "markdown",
   "metadata": {},
   "source": [
    "#### Now, let’s enhance our Shape class to include an area calculation feature. Modify the Shape class to include an area method, and implement it in your subclasses. Below is a structure to help you get started:\n",
    "\n"
   ]
  },
  {
   "cell_type": "code",
   "execution_count": null,
   "metadata": {
    "vscode": {
     "languageId": "java"
    }
   },
   "outputs": [],
   "source": [
    "class Shape {\n",
    "    public String draw() {\n",
    "        return \"Drawing a shape\";\n",
    "    }\n",
    "\n",
    "    public double area() {\n",
    "        return 0; // Default implementation\n",
    "    }\n",
    "}\n",
    "\n",
    "class Circle extends Shape {\n",
    "    private double radius;\n",
    "\n",
    "    public Circle(double radius) {\n",
    "        this.radius = radius;\n",
    "    }\n",
    "\n",
    "    @Override\n",
    "    public double area() {\n",
    "        // Area of a circle: π * r^2\n",
    "        return Math.PI * radius * radius;\n",
    "    }\n",
    "\n",
    "    @Override\n",
    "    public String draw() {\n",
    "        return \"Drawing a circle\";\n",
    "    }\n",
    "}\n",
    "\n",
    "class Square extends Shape {\n",
    "    private double side;\n",
    "\n",
    "    public Square(double side) {\n",
    "        this.side = side;\n",
    "    }\n",
    "\n",
    "    @Override\n",
    "    public double area() {\n",
    "        // Area of a square: side^2\n",
    "        return side * side;\n",
    "    }\n",
    "\n",
    "    @Override\n",
    "    public String draw() {\n",
    "        return \"Drawing a square\";\n",
    "    }\n",
    "}\n",
    "\n",
    "class Triangle extends Shape {\n",
    "    private double side1, side2, side3;\n",
    "\n",
    "    public Triangle(double side1, double side2, double side3) {\n",
    "        this.side1 = side1;\n",
    "        this.side2 = side2;\n",
    "        this.side3 = side3;\n",
    "    }\n",
    "\n",
    "    @Override\n",
    "    public double area() {\n",
    "        // Using Heron's formula for triangle area\n",
    "        double s = (side1 + side2 + side3) / 2.0;\n",
    "        return Math.sqrt(s * (s - side1) * (s - side2) * (s - side3));\n",
    "    }\n",
    "\n",
    "    @Override\n",
    "    public String draw() {\n",
    "        return \"Drawing a triangle\";\n",
    "    }\n",
    "}\n",
    "\n",
    "class Rectangle extends Shape {\n",
    "    private double length, width;\n",
    "\n",
    "    public Rectangle(double length, double width) {\n",
    "        this.length = length;\n",
    "        this.width = width;\n",
    "    }\n",
    "\n",
    "    @Override\n",
    "    public double area() {\n",
    "        // Area of a rectangle: length * width\n",
    "        return length * width;\n",
    "    }\n",
    "\n",
    "    @Override\n",
    "    public String draw() {\n",
    "        return \"Drawing a rectangle\";\n",
    "    }\n",
    "}\n",
    "\n",
    "public class Main {\n",
    "    public static void main(String[] args) {\n",
    "        Shape myCircle = new Circle(5);\n",
    "        System.out.println(myCircle.draw());\n",
    "        System.out.println(\"Area: \" + myCircle.area());\n",
    "\n",
    "        Shape mySquare = new Square(4);\n",
    "        System.out.println(mySquare.draw());\n",
    "        System.out.println(\"Area: \" + mySquare.area());\n",
    "\n",
    "        Shape myTriangle = new Triangle(3, 4, 5);\n",
    "        System.out.println(myTriangle.draw());\n",
    "        System.out.println(\"Area: \" + myTriangle.area());\n",
    "\n",
    "        Shape myRectangle = new Rectangle(4, 6);\n",
    "        System.out.println(myRectangle.draw());\n",
    "        System.out.println(\"Area: \" + myRectangle.area());\n",
    "    }\n",
    "}\n"
   ]
  }
 ],
 "metadata": {
  "kernelspec": {
   "display_name": "Python 3 (ipykernel)",
   "language": "python",
   "name": "python3"
  },
  "language_info": {
   "codemirror_mode": {
    "name": "ipython",
    "version": 3
   },
   "file_extension": ".py",
   "mimetype": "text/x-python",
   "name": "python",
   "nbconvert_exporter": "python",
   "pygments_lexer": "ipython3",
   "version": "3.11.9"
  }
 },
 "nbformat": 4,
 "nbformat_minor": 4
}
