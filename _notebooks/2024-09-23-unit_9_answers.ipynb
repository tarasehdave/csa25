{
 "cells": [
  {
   "cell_type": "markdown",
   "metadata": {},
   "source": [
    "## Unit 9 Java Inheritance"
   ]
  },
  {
   "cell_type": "markdown",
   "metadata": {},
   "source": [
    "### 9.1 Hacks"
   ]
  },
  {
   "cell_type": "markdown",
   "metadata": {},
   "source": [
    "#### Implement two new subclasses, Circle and Hexagon, extending from the Shape class. Each shape should have a method to calculate its area and should override the print_something() method to print something unique for that shape. Follow the same structure as the Rectangle and Triangle classes!\n",
    "\n"
   ]
  },
  {
   "cell_type": "code",
   "execution_count": null,
   "metadata": {
    "vscode": {
     "languageId": "java"
    }
   },
   "outputs": [],
   "source": [
    "public class Circle extends Shape {\n",
    "    private double radius;\n",
    "\n",
    "    public Circle() {\n",
    "        super(\"Circle\", 0, 0);\n",
    "        this.radius = 5;\n",
    "    }\n",
    "\n",
    "    public Circle(String name, double radius) {\n",
    "        super(name, 0, 0);\n",
    "        this.radius = radius;\n",
    "    }\n",
    "\n",
    "    @Override\n",
    "    public double calc_area() {\n",
    "        return Math.PI * Math.pow(this.radius, 2);\n",
    "    }\n",
    "\n",
    "    @Override\n",
    "    public void print_something() {\n",
    "        System.out.println(\"This is a circle\");\n",
    "    }\n",
    "}\n",
    "\n",
    "public class Hexagon extends Shape {\n",
    "    public Hexagon() {\n",
    "        super(\"Hexagon\", 0, 0);\n",
    "    }\n",
    "\n",
    "    public Hexagon(String name) {\n",
    "        super(name, 0, 0);\n",
    "    }\n",
    "\n",
    "    @Override\n",
    "    public double calc_area() {\n",
    "        return (3 * Math.sqrt(3) * Math.pow((get_length() / 2.0), 2)) / 2;\n",
    "    }\n",
    "\n",
    "    @Override\n",
    "    public void print_something() {\n",
    "        System.out.println(\"This is a hexagon\");\n",
    "    }\n",
    "}\n"
   ]
  },
  {
   "cell_type": "markdown",
   "metadata": {},
   "source": [
    "### 9.3 Hacks"
   ]
  }
 ],
 "metadata": {
  "kernelspec": {
   "display_name": "Python 3 (ipykernel)",
   "language": "python",
   "name": "python3"
  },
  "language_info": {
   "codemirror_mode": {
    "name": "ipython",
    "version": 3
   },
   "file_extension": ".py",
   "mimetype": "text/x-python",
   "name": "python",
   "nbconvert_exporter": "python",
   "pygments_lexer": "ipython3",
   "version": "3.11.9"
  }
 },
 "nbformat": 4,
 "nbformat_minor": 4
}
