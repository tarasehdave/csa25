{
 "cells": [
  {
   "cell_type": "markdown",
   "metadata": {},
   "source": [
    "## Unit 9 Java Inheritance"
   ]
  },
  {
   "cell_type": "markdown",
   "metadata": {},
   "source": [
    "### 9.1 Hacks"
   ]
  },
  {
   "cell_type": "markdown",
   "metadata": {},
   "source": [
    "#### Implement two new subclasses, Circle and Hexagon, extending from the Shape class. Each shape should have a method to calculate its area and should override the print_something() method to print something unique for that shape. Follow the same structure as the Rectangle and Triangle classes!\n",
    "\n"
   ]
  },
  {
   "cell_type": "code",
   "execution_count": null,
   "metadata": {
    "vscode": {
     "languageId": "java"
    }
   },
   "outputs": [],
   "source": [
    "public class Circle extends Shape {\n",
    "    private double radius;\n",
    "\n",
    "    public Circle() {\n",
    "        super(\"Circle\", 0, 0);\n",
    "        this.radius = 5;\n",
    "    }\n",
    "\n",
    "    public Circle(String name, double radius) {\n",
    "        super(name, 0, 0);\n",
    "        this.radius = radius;\n",
    "    }\n",
    "\n",
    "    @Override\n",
    "    public double calc_area() {\n",
    "        return Math.PI * Math.pow(this.radius, 2);\n",
    "    }\n",
    "\n",
    "    @Override\n",
    "    public void print_something() {\n",
    "        System.out.println(\"This is a circle\");\n",
    "    }\n",
    "}\n",
    "\n",
    "public class Hexagon extends Shape {\n",
    "    public Hexagon() {\n",
    "        super(\"Hexagon\", 0, 0);\n",
    "    }\n",
    "\n",
    "    public Hexagon(String name) {\n",
    "        super(name, 0, 0);\n",
    "    }\n",
    "\n",
    "    @Override\n",
    "    public double calc_area() {\n",
    "        return (3 * Math.sqrt(3) * Math.pow((get_length() / 2.0), 2)) / 2;\n",
    "    }\n",
    "\n",
    "    @Override\n",
    "    public void print_something() {\n",
    "        System.out.println(\"This is a hexagon\");\n",
    "    }\n",
    "}\n"
   ]
  },
  {
   "cell_type": "markdown",
   "metadata": {},
   "source": [
    "### 9.3 Hacks"
   ]
  },
  {
   "cell_type": "markdown",
   "metadata": {},
   "source": [
    "#### Lets re-define the Triangle class but this time override the default area method with the Heron’s formula\n",
    "\n"
   ]
  },
  {
   "cell_type": "code",
   "execution_count": null,
   "metadata": {
    "vscode": {
     "languageId": "java"
    }
   },
   "outputs": [],
   "source": [
    "@Override\n",
    "public double calc_area() {\n",
    "    \n",
    "    double s = (side1 + side2 + side3) / 2.0;\n",
    "\n",
    "    double area = Math.sqrt(s * (s - side1) * (s - side2) * (s - side3));\n",
    "\n",
    "    return area;\n",
    "}\n"
   ]
  },
  {
   "cell_type": "markdown",
   "metadata": {},
   "source": [
    "#### Important Notes \n",
    "\n",
    "1. Using the final keyword in the parent method will make that method unable to be overridden\n",
    "2. Methods can be overidden to give more access but cannot restrict acces: private -> public, but not public -> private\n",
    "3. Use of @Override is highly encouraged\n"
   ]
  },
  {
   "cell_type": "markdown",
   "metadata": {},
   "source": [
    "#### Re-write the Triangle sublcass so that it also overrides the calc_perimeter()\n",
    "\n"
   ]
  },
  {
   "cell_type": "code",
   "execution_count": null,
   "metadata": {
    "vscode": {
     "languageId": "java"
    }
   },
   "outputs": [],
   "source": [
    "public class Triangle extends Shape {\n",
    "    private int side1;\n",
    "    private int side2;\n",
    "    private int side3;\n",
    "\n",
    "    public Triangle() {\n",
    "        this.name = \"triangle\";\n",
    "        this.side1 = 1;\n",
    "        this.side2 = 2;\n",
    "        this.side3 = 3;\n",
    "    }\n",
    "\n",
    "    public Triangle(String name, int s1, int s2, int s3) {\n",
    "        super(name, 0, 0); \n",
    "        this.name = \"triangle\";\n",
    "        this.side1 = s1;\n",
    "        this.side2 = s2;\n",
    "        this.side3 = s3;\n",
    "    }\n",
    "\n",
    "    @Override\n",
    "    public double calc_area() {\n",
    "\n",
    "        double s = (side1 + side2 + side3) / 2.0;\n",
    "\n",
    "        double area = Math.sqrt(s * (s - side1) * (s - side2) * (s - side3));\n",
    "\n",
    "        return area;\n",
    "    }\n",
    "\n",
    "    @Override\n",
    "    public double calc_perimeter() {\n",
    "        \n",
    "        return side1 + side2 + side3;\n",
    "    }\n",
    "}\n"
   ]
  },
  {
   "cell_type": "markdown",
   "metadata": {},
   "source": [
    "### 9.5 Hacks"
   ]
  },
  {
   "cell_type": "markdown",
   "metadata": {},
   "source": [
    "#### Let’s implement the Triangle subclass to deepen your understanding. Below is a half-completed method for the Triangle class. Your task is to complete the draw method:\n",
    "\n"
   ]
  },
  {
   "cell_type": "code",
   "execution_count": null,
   "metadata": {
    "vscode": {
     "languageId": "java"
    }
   },
   "outputs": [],
   "source": [
    "class Shape {\n",
    "    public String draw() {\n",
    "        return \"Drawing a shape\";\n",
    "    }\n",
    "}\n",
    "\n",
    "class Triangle extends Shape {\n",
    "    @Override\n",
    "    public String draw() {\n",
    "        return \"Drawing a triangle\";\n",
    "    }\n",
    "}\n",
    "\n",
    "public class Main {\n",
    "    public static void main(String[] args) {\n",
    "        Shape myTriangle = new Triangle();\n",
    "        System.out.println(myTriangle.draw()); // Should output: \"Drawing a triangle.\"\n",
    "    }\n",
    "}\n"
   ]
  },
  {
   "cell_type": "markdown",
   "metadata": {},
   "source": [
    "#### Next, let’s implement the Rectangle subclass. Below is the basic setup for it. Your task is to implement the draw method for the Rectangle class:\n",
    "\n"
   ]
  },
  {
   "cell_type": "code",
   "execution_count": null,
   "metadata": {
    "vscode": {
     "languageId": "java"
    }
   },
   "outputs": [],
   "source": [
    "class Rectangle extends Shape {\n",
    "    @Override\n",
    "    public String draw() {\n",
    "        return \"Drawing a rectangle\";\n",
    "    }\n",
    "}\n",
    "\n",
    "public class Main {\n",
    "    public static void main(String[] args) {\n",
    "        Shape myRectangle = new Rectangle();\n",
    "        System.out.println(myRectangle.draw()); \n",
    "    }\n",
    "}\n"
   ]
  },
  {
   "cell_type": "markdown",
   "metadata": {},
   "source": [
    "#### Now, let’s enhance our Shape class to include an area calculation feature. Modify the Shape class to include an area method, and implement it in your subclasses. Below is a structure to help you get started:\n",
    "\n"
   ]
  },
  {
   "cell_type": "code",
   "execution_count": null,
   "metadata": {
    "vscode": {
     "languageId": "java"
    }
   },
   "outputs": [],
   "source": [
    "class Shape {\n",
    "    public String draw() {\n",
    "        return \"Drawing a shape\";\n",
    "    }\n",
    "\n",
    "    public double area() {\n",
    "        return 0; // Default implementation\n",
    "    }\n",
    "}\n",
    "\n",
    "class Circle extends Shape {\n",
    "    private double radius;\n",
    "\n",
    "    public Circle(double radius) {\n",
    "        this.radius = radius;\n",
    "    }\n",
    "\n",
    "    @Override\n",
    "    public double area() {\n",
    "        // Area of a circle: π * r^2\n",
    "        return Math.PI * radius * radius;\n",
    "    }\n",
    "\n",
    "    @Override\n",
    "    public String draw() {\n",
    "        return \"Drawing a circle\";\n",
    "    }\n",
    "}\n",
    "\n",
    "class Square extends Shape {\n",
    "    private double side;\n",
    "\n",
    "    public Square(double side) {\n",
    "        this.side = side;\n",
    "    }\n",
    "\n",
    "    @Override\n",
    "    public double area() {\n",
    "        // Area of a square: side^2\n",
    "        return side * side;\n",
    "    }\n",
    "\n",
    "    @Override\n",
    "    public String draw() {\n",
    "        return \"Drawing a square\";\n",
    "    }\n",
    "}\n",
    "\n",
    "class Triangle extends Shape {\n",
    "    private double side1, side2, side3;\n",
    "\n",
    "    public Triangle(double side1, double side2, double side3) {\n",
    "        this.side1 = side1;\n",
    "        this.side2 = side2;\n",
    "        this.side3 = side3;\n",
    "    }\n",
    "\n",
    "    @Override\n",
    "    public double area() {\n",
    "        // Using Heron's formula for triangle area\n",
    "        double s = (side1 + side2 + side3) / 2.0;\n",
    "        return Math.sqrt(s * (s - side1) * (s - side2) * (s - side3));\n",
    "    }\n",
    "\n",
    "    @Override\n",
    "    public String draw() {\n",
    "        return \"Drawing a triangle\";\n",
    "    }\n",
    "}\n",
    "\n",
    "class Rectangle extends Shape {\n",
    "    private double length, width;\n",
    "\n",
    "    public Rectangle(double length, double width) {\n",
    "        this.length = length;\n",
    "        this.width = width;\n",
    "    }\n",
    "\n",
    "    @Override\n",
    "    public double area() {\n",
    "        // Area of a rectangle: length * width\n",
    "        return length * width;\n",
    "    }\n",
    "\n",
    "    @Override\n",
    "    public String draw() {\n",
    "        return \"Drawing a rectangle\";\n",
    "    }\n",
    "}\n",
    "\n",
    "public class Main {\n",
    "    public static void main(String[] args) {\n",
    "        Shape myCircle = new Circle(5);\n",
    "        System.out.println(myCircle.draw());\n",
    "        System.out.println(\"Area: \" + myCircle.area());\n",
    "\n",
    "        Shape mySquare = new Square(4);\n",
    "        System.out.println(mySquare.draw());\n",
    "        System.out.println(\"Area: \" + mySquare.area());\n",
    "\n",
    "        Shape myTriangle = new Triangle(3, 4, 5);\n",
    "        System.out.println(myTriangle.draw());\n",
    "        System.out.println(\"Area: \" + myTriangle.area());\n",
    "\n",
    "        Shape myRectangle = new Rectangle(4, 6);\n",
    "        System.out.println(myRectangle.draw());\n",
    "        System.out.println(\"Area: \" + myRectangle.area());\n",
    "    }\n",
    "}\n"
   ]
  },
  {
   "cell_type": "markdown",
   "metadata": {},
   "source": [
    "Homework Hack\n",
    "For your homework, create your own class hierarchy for shapes. You should have a base class called Shape with subclasses Triangle, Rectangle, and Hexagon. Each subclass should implement a method called draw(), returning a unique string for each shape type."
   ]
  },
  {
   "cell_type": "code",
   "execution_count": null,
   "metadata": {
    "vscode": {
     "languageId": "java"
    }
   },
   "outputs": [],
   "source": [
    "public abstract class Shape {\n",
    "    // Abstract method that must be implemented by subclasses\n",
    "    public abstract String draw();\n",
    "}\n",
    "\n",
    "public class Triangle extends Shape {\n",
    "    @Override\n",
    "    public String draw() {\n",
    "        return \"Drawing a Triangle\";\n",
    "    }\n",
    "}\n",
    "\n",
    "public class Rectangle extends Shape {\n",
    "    @Override\n",
    "    public String draw() {\n",
    "        return \"Drawing a Rectangle\";\n",
    "    }\n",
    "}\n",
    "\n",
    "public class Hexagon extends Shape {\n",
    "    @Override\n",
    "    public String draw() {\n",
    "        return \"Drawing a Hexagon\";\n",
    "    }\n",
    "}\n",
    "\n",
    "public class Main {\n",
    "    public static void main(String[] args) {\n",
    "        Shape triangle = new Triangle();\n",
    "        Shape rectangle = new Rectangle();\n",
    "        Shape hexagon = new Hexagon();\n",
    "\n",
    "        System.out.println(triangle.draw());\n",
    "        System.out.println(rectangle.draw());\n",
    "        System.out.println(hexagon.draw());\n",
    "    }\n",
    "}\n"
   ]
  },
  {
   "cell_type": "markdown",
   "metadata": {},
   "source": [
    "9.6 Hacks\n",
    "- using a previous example of inheritance create an example of polymorphsim, or create an example of polymorphic behavhoir between two classes of Shape and Sqaure"
   ]
  },
  {
   "cell_type": "code",
   "execution_count": null,
   "metadata": {
    "vscode": {
     "languageId": "java"
    }
   },
   "outputs": [],
   "source": [
    "// Base class\n",
    "abstract class Shape {\n",
    "    // Abstract method to calculate area\n",
    "    abstract double area();\n",
    "}\n",
    "\n",
    "// Derived class: Square\n",
    "class Square extends Shape {\n",
    "    private double sideLength;\n",
    "\n",
    "    // Constructor\n",
    "    public Square(double sideLength) {\n",
    "        this.sideLength = sideLength;\n",
    "    }\n",
    "\n",
    "    // Implementation of the area method for Square\n",
    "    @Override\n",
    "    double area() {\n",
    "        return sideLength * sideLength;\n",
    "    }\n",
    "}\n",
    "\n",
    "// Derived class: Circle\n",
    "class Circle extends Shape {\n",
    "    private double radius;\n",
    "\n",
    "    // Constructor\n",
    "    public Circle(double radius) {\n",
    "        this.radius = radius;\n",
    "    }\n",
    "\n",
    "    // Implementation of the area method for Circle\n",
    "    @Override\n",
    "    double area() {\n",
    "        return Math.PI * radius * radius;\n",
    "    }\n",
    "}\n",
    "\n",
    "// Main class to demonstrate polymorphism\n",
    "// The same method, area(), is called on different types of shapes, \n",
    "// and each shape responds according to its own implementation.\n",
    "public class Main {\n",
    "    public static void main(String[] args) {\n",
    "        // Create an array of Shape references\n",
    "        Shape[] shapes = new Shape[2];\n",
    "        shapes[0] = new Square(4);  // Creating a Square with side length 4\n",
    "        shapes[1] = new Circle(3);   // Creating a Circle with radius 3\n",
    "\n",
    "        // Polymorphic behavior: calling area method on different shapes\n",
    "        for (Shape shape : shapes) {\n",
    "            System.out.println(\"Area: \" + shape.area());\n",
    "        }\n",
    "    }\n",
    "}"
   ]
  },
  {
   "cell_type": "markdown",
   "metadata": {},
   "source": [
    "Using the previous polymorphism popcorn hack, explain which parts are static and dynamic data types and when that is the case"
   ]
  },
  {
   "cell_type": "markdown",
   "metadata": {},
   "source": [
    "Static data types are determined at compile time and it is declared in code. It does not change at runtime.\n",
    "- in the example above, thae array _Shape[] shapes_ is static data type that can hold references to any objet of type Shape.\n",
    "- shape in the for loop is also static data type. It is defined as a reference type of Shape"
   ]
  },
  {
   "cell_type": "markdown",
   "metadata": {},
   "source": [
    "Dynamic data type is determined at runtime based on the actual object the reference points to.\n",
    "- in the arrays shapes, shapes[0] points to Square object and shapes[1] points to Circle object which is determined at runtime.\n",
    "- when area() method is called on each shape in the for loop, the method corresponding to the actual object type is invoked, which is determined at runtime"
   ]
  },
  {
   "cell_type": "markdown",
   "metadata": {},
   "source": [
    "Define Down-Casting in your own words"
   ]
  },
  {
   "cell_type": "markdown",
   "metadata": {},
   "source": [
    "Down-casting is the process of converting a reference of a superclass type to a reference of a subclass type. For example: \n",
    "- Shape shape = new Square(4);  \n",
    "- Square square = (Square) shape;  // Down-casting\n",
    "\n",
    "down-casting allows you to treat an object of a more general type (the superclass) as if it were a more specific type (the subclass) so you can utilize subclass-specific features. This can only be safely done if the actual object is an instance of the subclass otherwise, it can lead to a ClassCastException at runtime."
   ]
  },
  {
   "cell_type": "markdown",
   "metadata": {},
   "source": [
    "using the previous polymorphism example add an example of down-casting."
   ]
  },
  {
   "cell_type": "code",
   "execution_count": null,
   "metadata": {
    "vscode": {
     "languageId": "java"
    }
   },
   "outputs": [],
   "source": [
    "abstract class Shape {\n",
    "    abstract double area();\n",
    "}\n",
    "\n",
    "class Square extends Shape {\n",
    "    private double sideLength;\n",
    "\n",
    "    public Square(double sideLength) {\n",
    "        this.sideLength = sideLength;\n",
    "    }\n",
    "\n",
    "    @Override\n",
    "    double area() {\n",
    "        return sideLength * sideLength;\n",
    "    }\n",
    "\n",
    "    // Method to get the side length\n",
    "    public double getSideLength() {\n",
    "        return sideLength;\n",
    "    }\n",
    "}\n",
    "\n",
    "class Circle extends Shape {\n",
    "    private double radius;\n",
    "\n",
    "    public Circle(double radius) {\n",
    "        this.radius = radius;\n",
    "    }\n",
    "\n",
    "    @Override\n",
    "    double area() {\n",
    "        return Math.PI * radius * radius;\n",
    "    }\n",
    "\n",
    "    // Method to get the radius\n",
    "    public double getRadius() {\n",
    "        return radius;\n",
    "    }\n",
    "}\n",
    "\n",
    "public class Main {\n",
    "    public static void main(String[] args) {\n",
    "        // Create an array of Shape references\n",
    "        Shape[] shapes = new Shape[2];\n",
    "        shapes[0] = new Square(4);  // Creating a Square with side length 4\n",
    "        shapes[1] = new Circle(3);   // Creating a Circle with radius 3\n",
    "\n",
    "        // Polymorphic behavior: calling area method on different shapes\n",
    "        for (Shape shape : shapes) {\n",
    "            System.out.println(\"Area: \" + shape.area());\n",
    "        }\n",
    "\n",
    "        // Example of down-casting\n",
    "        for (Shape shape : shapes) {\n",
    "            if (shape instanceof Square) {\n",
    "                Square square = (Square) shape;  // Down-casting to Square\n",
    "                System.out.println(\"Down-Casted Square Side Length: \" + square.getSideLength());\n",
    "            } else if (shape instanceof Circle) {\n",
    "                Circle circle = (Circle) shape;  // Down-casting to Circle\n",
    "                System.out.println(\"Down-Casted Circle Radius: \" + circle.getRadius());\n",
    "            }\n",
    "        }\n",
    "    }\n",
    "}"
   ]
  },
  {
   "cell_type": "markdown",
   "metadata": {},
   "source": [
    "9.7 Hacks"
   ]
  },
  {
   "cell_type": "markdown",
   "metadata": {},
   "source": [
    "Create an class where you execute an unchanged method from Object, then execute a different method from Object that you changed."
   ]
  },
  {
   "cell_type": "code",
   "execution_count": null,
   "metadata": {
    "vscode": {
     "languageId": "java"
    }
   },
   "outputs": [],
   "source": [
    "class Student {\n",
    "    private String name;\n",
    "    private int id;\n",
    "\n",
    "    // Constructor\n",
    "    public Student(String name, int id) {\n",
    "        this.name = name;\n",
    "        this.id = id;\n",
    "    }\n",
    "\n",
    "    // Overriding the toString method from Object\n",
    "    @Override\n",
    "    public String toString() {\n",
    "        return \"Student [Name: \" + name + \", ID: \" + id + \"]\";\n",
    "    }\n",
    "\n",
    "    // Main method to demonstrate unchanged and changed Object methods\n",
    "    public static void main(String[] args) {\n",
    "        Student obj = new Student(\"Tara\", 1);\n",
    "\n",
    "        // Executing an unchanged method from Object\n",
    "        int hashCode = obj.hashCode();  // Unchanged method\n",
    "        System.out.println(\"Hash Code (Unchanged method): \" + hashCode);\n",
    "\n",
    "        // Executing a changed method from Object\n",
    "        String stringRepresentation = obj.toString();  // Changed method\n",
    "        System.out.println(\"String Representation (Changed method): \" + stringRepresentation);\n",
    "    }\n",
    "}\n"
   ]
  },
  {
   "cell_type": "markdown",
   "metadata": {},
   "source": [
    "FRQ Prompt\n",
    "Consider a program that manages a collection of books, specifically focusing on textbooks. You are required to implement a class named Textbook that extends an existing class called Book. The Textbook class should include the following features:\n",
    "\n",
    "A private integer field named edition that represents the edition number of the textbook.\n",
    "A constructor that takes three parameters: a string for the title, a double for the price, and an integer for the edition. This constructor should invoke the superclass constructor to initialize the title and price.\n",
    "A method getEdition() that returns the edition of the textbook.\n",
    "A method canSubstituteFor(Textbook other) that determines if the current textbook can be substituted for another textbook. This method should return true if both textbooks have the same title and the current textbook’s edition is equal to or greater than the other textbook’s edition.\n",
    "An overridden method getBookInfo() that returns a string representation of the textbook information, including the title, price, and edition.\n",
    "Optional: Include error handling in the constructor to ensure that the edition is a positive integer, and override the toString() method for convenient output of the textbook information.\n",
    "Write the complete implementation of the Textbook class, including all specified methods and any additional features you believe would be beneficial."
   ]
  },
  {
   "cell_type": "code",
   "execution_count": null,
   "metadata": {
    "vscode": {
     "languageId": "java"
    }
   },
   "outputs": [],
   "source": [
    "// Assuming the Book class is defined as follows:\n",
    "class Book {\n",
    "    private String title;\n",
    "    private double price;\n",
    "\n",
    "    // Constructor for the Book class\n",
    "    public Book(String title, double price) {\n",
    "        this.title = title;\n",
    "        this.price = price;\n",
    "    }\n",
    "\n",
    "    // Getters for title and price\n",
    "    public String getTitle() {\n",
    "        return title;\n",
    "    }\n",
    "\n",
    "    public double getPrice() {\n",
    "        return price;\n",
    "    }\n",
    "\n",
    "    // Method to get book information\n",
    "    public String getBookInfo() {\n",
    "        return \"Title: \" + title + \", Price: $\" + price;\n",
    "    }\n",
    "}\n",
    "\n",
    "// Textbook class that extends Book\n",
    "class Textbook extends Book {\n",
    "    private int edition;\n",
    "\n",
    "    // Constructor for the Textbook class\n",
    "    public Textbook(String title, double price, int edition) {\n",
    "        super(title, price); // Call the superclass constructor\n",
    "        if (edition <= 0) {\n",
    "            throw new IllegalArgumentException(\"Edition must be a positive integer.\");\n",
    "        }\n",
    "        this.edition = edition;\n",
    "    }\n",
    "\n",
    "    // Method to get the edition of the textbook\n",
    "    public int getEdition() {\n",
    "        return edition;\n",
    "    }\n",
    "\n",
    "    // Method to determine if this textbook can substitute for another\n",
    "    public boolean canSubstituteFor(Textbook other) {\n",
    "        return this.getTitle().equals(other.getTitle()) && this.edition >= other.getEdition();\n",
    "    }\n",
    "\n",
    "    // Overridden method to get textbook information\n",
    "    @Override\n",
    "    public String getBookInfo() {\n",
    "        return super.getBookInfo() + \", Edition: \" + edition;\n",
    "    }\n",
    "\n",
    "    // Overridden toString method for convenient output\n",
    "    @Override\n",
    "    public String toString() {\n",
    "        return getBookInfo();\n",
    "    }\n",
    "}\n",
    "\n",
    "// Main class to demonstrate the Textbook functionality\n",
    "public class Main {\n",
    "    public static void main(String[] args) {\n",
    "        try {\n",
    "            Textbook textbook1 = new Textbook(\"AP CSA\", 79.99, 3);\n",
    "            Textbook textbook2 = new Textbook(\"AP CSP\", 59.99, 2);\n",
    "            Textbook textbook3 = new Textbook(\"AP CSA\", 39.99, 2);\n",
    "\n",
    "            System.out.println(textbook1); // Calls toString()\n",
    "            System.out.println(textbook2); // Calls toString()\n",
    "\n",
    "            // Checking if textbook1 can substitute for textbook2\n",
    "            System.out.println(\"Can substitute: \" + textbook1.canSubstituteFor(textbook2)); //false\n",
    "            System.out.println(\"Can substitute: \" + textbook1.canSubstituteFor(textbook3)); //true\n",
    "        } catch (IllegalArgumentException e) {\n",
    "            System.err.println(e.getMessage());\n",
    "        }\n",
    "    }\n",
    "}\n"
   ]
  },
  {
   "cell_type": "markdown",
   "metadata": {},
   "source": [
    "What is wrong with this block of code?\n",
    "class Shape{\n",
    "    private double length = 0;\n",
    "    private double width = 0;\n",
    "    \n",
    "    public Shape(double length, double width){\n",
    "        this.length = length;\n",
    "        this.width = width;\n",
    "    }\n",
    "\n",
    "    public double getArea(){\n",
    "        return this.length * this.width;\n",
    "    }\n",
    "\n",
    "    private String toString(){\n",
    "        return \"Shape length:\"+ (new Double(this.length)).toString() + \" width:\" + (new Double(this.width)).toString();\n",
    "    }\n",
    "}\n",
    "\n",
    "Shape myShape = new Shape(2,3);\n",
    "\n",
    "System.out.println(myShape.getArea());"
   ]
  },
  {
   "cell_type": "markdown",
   "metadata": {},
   "source": [
    "a) You can’t use the this keyword in the constructor\n",
    "\n",
    "b) When passing a double through an argument it must be in the form of 0.0\n",
    "\n",
    "_c) The toString() method must be public_\n",
    "\n",
    "d) The getArea() method doesn’t return a double\n",
    "\n",
    "The toString() method must be public. The toString() method is called implicitly when you print an object. "
   ]
  },
  {
   "cell_type": "markdown",
   "metadata": {},
   "source": [
    "2. Which method cannot be exectuted in the following example of Polymorphism"
   ]
  },
  {
   "cell_type": "code",
   "execution_count": null,
   "metadata": {
    "vscode": {
     "languageId": "java"
    }
   },
   "outputs": [],
   "source": [
    "class Water{\n",
    "    public String toString(){\n",
    "        return \"Water\";\n",
    "    }\n",
    "\n",
    "    private boolean isSalty(){\n",
    "        return false;\n",
    "    }\n",
    "\n",
    "    public String typeOfWater(){\n",
    "        return \"Static\";\n",
    "    }\n",
    "\n",
    "}\n",
    "\n",
    "class Lake extends Water{\n",
    "    public String toString(){\n",
    "        return \"Lake\";\n",
    "    }\n",
    "\n",
    "    public boolean isSalty(){\n",
    "        return true;\n",
    "    }\n",
    "}\n",
    "\n",
    "Water myLakeWater = new Lake();"
   ]
  },
  {
   "cell_type": "markdown",
   "metadata": {},
   "source": [
    "a) typeOfWater()\n",
    "\n",
    "_b) isSalty()_\n",
    "\n",
    "c) toString()\n",
    "\n",
    "d) getClass()\n",
    "\n",
    "isSalty() method cannot be executed on the myLakeWater reference because it is declared private in the Water class."
   ]
  }
 ],
 "metadata": {
  "kernelspec": {
   "display_name": "Python 3 (ipykernel)",
   "language": "python",
   "name": "python3"
  },
  "language_info": {
   "codemirror_mode": {
    "name": "ipython",
    "version": 3
   },
   "file_extension": ".py",
   "mimetype": "text/x-python",
   "name": "python",
   "nbconvert_exporter": "python",
   "pygments_lexer": "ipython3",
   "version": "3.11.9"
  }
 },
 "nbformat": 4,
 "nbformat_minor": 4
}
