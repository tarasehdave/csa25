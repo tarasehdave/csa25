{
 "cells": [
  {
   "cell_type": "markdown",
   "metadata": {},
   "source": [
    "## Unit 9 Java Inheritance"
   ]
  },
  {
   "cell_type": "code",
   "execution_count": null,
   "metadata": {
    "vscode": {
     "languageId": "java"
    }
   },
   "outputs": [],
   "source": [
    "public class CheckDigit{\n",
    "\n",
    "    public static int getCheck(int num){\n",
    "        num = Math.abs(num);\n",
    "        \n",
    "        // Convert the number to a string and get its length\n",
    "        int digitCount = String.valueOf(num).length();\n",
    "        \n",
    "        if(digitCount >= 1 && digitCount <= 6){\n",
    "            return 1; //true\n",
    "        }\n",
    "        return 0; //false\n",
    "    }\n",
    "}"
   ]
  }
 ],
 "metadata": {
  "kernelspec": {
   "display_name": "Python 3 (ipykernel)",
   "language": "python",
   "name": "python3"
  },
  "language_info": {
   "codemirror_mode": {
    "name": "ipython",
    "version": 3
   },
   "file_extension": ".py",
   "mimetype": "text/x-python",
   "name": "python",
   "nbconvert_exporter": "python",
   "pygments_lexer": "ipython3",
   "version": "3.11.9"
  }
 },
 "nbformat": 4,
 "nbformat_minor": 4
}
