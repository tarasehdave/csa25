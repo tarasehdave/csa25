{
 "cells": [
  {
   "cell_type": "markdown",
   "metadata": {},
   "source": [
    "## Unit 6 Popcorn Quiz Answers"
   ]
  },
  {
   "cell_type": "markdown",
   "metadata": {},
   "source": [
    "### Unit 6.1 Array Creation and Access\n",
    "\n",
    "Question: How would you find the index of the last element of the array, if you didn’t know how many elements there were in the array?\n",
    "Answer: We can use  length property of an array to find the index of the last element when the number of elements in the array is unknown.\n"
   ]
  },
  {
   "cell_type": "code",
   "execution_count": null,
   "metadata": {
    "vscode": {
     "languageId": "java"
    }
   },
   "outputs": [],
   "source": [
    "// Finding the index of the last element\n",
    "int lastIndex = array.length - 1;"
   ]
  },
  {
   "cell_type": "markdown",
   "metadata": {},
   "source": [
    "#### Popcorn Hack (do this on separate cells)\n",
    "1. Create an array called “city_array” with the elements “San Diego”, “Los Angeles”, “San Francisco”, “Sacramento\"\n",
    "\n",
    "2. Print out the first element in the array\n",
    "\n",
    "3. Print out the third element in the array\n",
    "\n",
    "4. Change the second element in the array to “Sacramento”\n",
    "\n",
    "5. Change the fourth element in the array to “San Jose”\n",
    "\n",
    "6. Print out the length of the array"
   ]
  },
  {
   "cell_type": "code",
   "execution_count": null,
   "metadata": {
    "vscode": {
     "languageId": "java"
    }
   },
   "outputs": [],
   "source": [
    "public class Main {\n",
    "    public static void main(String[] args) {\n",
    "        // Create the city_array\n",
    "        String[] city_array = {\"San Diego\", \"Los Angeles\", \"San Francisco\", \"Sacramento\"};\n",
    "        \n",
    "        // Print out the first element in the array\n",
    "        System.out.println(\"First element: \" + city_array[0]);\n",
    "        \n",
    "        // Print out the third element in the array\n",
    "        System.out.println(\"Third element: \" + city_array[2]);\n",
    "        \n",
    "        // Change the second element in the array to \"Sacramento\"\n",
    "        city_array[1] = \"Sacramento\";\n",
    "        \n",
    "        // Change the fourth element in the array to \"San Jose\"\n",
    "        city_array[3] = \"San Jose\";\n",
    "        \n",
    "        // Print out the length of the array\n",
    "        System.out.println(\"Length of the array: \" + city_array.length);        \n",
    "\n",
    "    }\n",
    "}\n"
   ]
  },
  {
   "cell_type": "markdown",
   "metadata": {},
   "source": [
    "Output:\n",
    "- First element: San Diego\n",
    "- Third element: San Francisco\n",
    "- Length of the array: 4"
   ]
  },
  {
   "cell_type": "markdown",
   "metadata": {},
   "source": [
    "#### Popcorn Hack:\n",
    "Create four new INITIALIZED arrays, with int, string, double, and boolean types respectively. Print out the second element of each array to see the default values."
   ]
  },
  {
   "cell_type": "code",
   "execution_count": null,
   "metadata": {
    "vscode": {
     "languageId": "java"
    }
   },
   "outputs": [],
   "source": [
    "public class Main {\n",
    "    public static void main(String[] args) {\n",
    "        // Create an array of integers (default value is 0)\n",
    "        int[] intArray = new int[5]; // Array of size 5\n",
    "\n",
    "        // Create an array of strings (default value is null)\n",
    "        String[] stringArray = new String[5]; // Array of size 5\n",
    "\n",
    "        // Create an array of doubles (default value is 0.0)\n",
    "        double[] doubleArray = new double[5]; // Array of size 5\n",
    "\n",
    "        // Create an array of booleans (default value is false)\n",
    "        boolean[] booleanArray = new boolean[5]; // Array of size 5\n",
    "\n",
    "        // Print out the second element of each array\n",
    "        System.out.println(\"Second element of intArray: \" + intArray[1]);\n",
    "        System.out.println(\"Second element of stringArray: \" + stringArray[1]);\n",
    "        System.out.println(\"Second element of doubleArray: \" + doubleArray[1]);\n",
    "        System.out.println(\"Second element of booleanArray: \" + booleanArray[1]);\n",
    "    }\n",
    "}\n"
   ]
  },
  {
   "cell_type": "markdown",
   "metadata": {},
   "source": [
    "OUTPUT:\n",
    "- Second element of intArray: 0\n",
    "- Second element of stringArray: null\n",
    "- Second element of doubleArray: 0.0\n",
    "- Second element of booleanArray: false\n"
   ]
  },
  {
   "cell_type": "markdown",
   "metadata": {},
   "source": [
    "#### Practice MCQs\n",
    "Question 1: \n",
    "- Answer: option D. This accesses the string at the third last index of arr and then calls indexOf(find) on that string.\n",
    "\n",
    "Question 2:\n",
    "- Answer: option B. The mystery method uses the formula arr[1] + arr[4]/2 to calulate the resulting value. For input list = {1,9,2,5,6}, this would result in 9 + 6/2 = 12"
   ]
  },
  {
   "cell_type": "markdown",
   "metadata": {},
   "source": [
    "### Unit 6.2 Traversing\n",
    "#### Popcorn Hack 1\n",
    "Write a method that takes an integer array as input and returns the sum of all even numbers in the array. If there are no even numbers, return 0"
   ]
  },
  {
   "cell_type": "code",
   "execution_count": null,
   "metadata": {
    "vscode": {
     "languageId": "java"
    }
   },
   "outputs": [],
   "source": [
    "public static int sumEvenNumbers(int[] arr) {\n",
    "    int sum = 0; // Initialize sum to 0\n",
    "\n",
    "    // Loop through the array\n",
    "    for (int num : arr) {\n",
    "        // Check if the number is even\n",
    "        if (num % 2 == 0) {\n",
    "            sum += num; // Add the even number to sum\n",
    "        }\n",
    "    }\n",
    "\n",
    "    return sum; // Return the sum of even numbers\n",
    "}"
   ]
  },
  {
   "cell_type": "markdown",
   "metadata": {},
   "source": [
    "#### Popcorn Hack 2\n",
    "Write a method that traverses an integer array and counts how many times a specific number appears. Make sure to use a for-each loop."
   ]
  },
  {
   "cell_type": "code",
   "execution_count": null,
   "metadata": {
    "vscode": {
     "languageId": "java"
    }
   },
   "outputs": [],
   "source": [
    "public static int countOccurrences(int[] arr, int target) {\n",
    "    int count = 0; // Initialize count to 0\n",
    "\n",
    "    // Use a for-each loop to traverse the array\n",
    "    for (int num : arr) {\n",
    "        // Check if the current number is equal to the target\n",
    "        if (num == target) {\n",
    "            count++; // Increment count if there's a match\n",
    "        }\n",
    "    }\n",
    "\n",
    "    return count; // Return the total count\n",
    "}"
   ]
  },
  {
   "cell_type": "markdown",
   "metadata": {},
   "source": [
    "#### Popcorn Hack 3\n",
    "Write a method that traverses an array of integers and returns the index of the first negative number. If there are no negative numbers, return -1. Use a while loop."
   ]
  },
  {
   "cell_type": "code",
   "execution_count": null,
   "metadata": {
    "vscode": {
     "languageId": "java"
    }
   },
   "outputs": [],
   "source": [
    "public static int firstNegativeIndex(int[] arr) {\n",
    "    int index = 0; // Start at the first index\n",
    "\n",
    "    // Use a while loop to traverse the array\n",
    "    while (index < arr.length) {\n",
    "        // Check if the current number is negative\n",
    "        if (arr[index] < 0) {\n",
    "            return index; // Return the index of the first negative number\n",
    "        }\n",
    "        index++; // Move to the next index\n",
    "    }\n",
    "\n",
    "    return -1; // Return -1 if no negative numbers are found\n",
    "}"
   ]
  },
  {
   "cell_type": "markdown",
   "metadata": {},
   "source": [
    "#### Multiple Choice Question\n",
    "1. C  ( 3_6_4_ )\n",
    "2. E  ( int i = 0; i < numbers.length; i+=2 )\n",
    "3. B  ( i < arr.length/2 )"
   ]
  },
  {
   "cell_type": "markdown",
   "metadata": {},
   "source": [
    "#### Homework Hack\n",
    "Problem Statement: Given an array of integers, write a method to find the second largest unique element in the array. If the array has fewer than two distinct elements, return -1."
   ]
  },
  {
   "cell_type": "code",
   "execution_count": null,
   "metadata": {
    "vscode": {
     "languageId": "java"
    }
   },
   "outputs": [],
   "source": [
    "public static int findSecondLargest(int[] arr) {\n",
    "    // Initialize variables to hold the largest and second largest values\n",
    "    Integer largest = null;\n",
    "    Integer secondLargest = null;\n",
    "\n",
    "    // Traverse the array\n",
    "    for (int num : arr) {\n",
    "        // Check if the current number is larger than the largest found so far\n",
    "        if (largest == null || num > largest) {\n",
    "            secondLargest = largest; \n",
    "            largest = num;           \n",
    "        } else if (num != largest) { \n",
    "            if (secondLargest == null || num > secondLargest) {\n",
    "                secondLargest = num; \n",
    "            }\n",
    "        }\n",
    "    }\n",
    "\n",
    "    // Return the second largest unique element or -1 if not found\n",
    "    if (secondLargest != null) {\n",
    "        return secondLargest;\n",
    "    }\n",
    "    return -1;\n",
    "}"
   ]
  },
  {
   "cell_type": "markdown",
   "metadata": {},
   "source": [
    "### Unit 6.3 Enhanced for\n",
    "#### Popcorn Hack\n",
    "Rewrite this code to use an enhanced for loop instead. make comments explaining what you added/changed\n",
    " - I replaced the traditional for loop (for (int i = 0; i < languages.length; i++)) with an enhanced for loop (for (String language : languages))."
   ]
  },
  {
   "cell_type": "code",
   "execution_count": null,
   "metadata": {
    "vscode": {
     "languageId": "java"
    }
   },
   "outputs": [],
   "source": [
    "public class Main {\n",
    "    public static void main(String[] args) {\n",
    "        // Initialize the array of programming languages\n",
    "        String[] languages = {\"Java\", \"Python\", \"Markdown\", \"C++\", \"Go\", \"JavaScript\", \"HTML\"};\n",
    "\n",
    "        // Using enhanced for loop to iterate over each language in the array\n",
    "        for (String language : languages) {\n",
    "            // Print the current language to the console\n",
    "            System.out.println(language);\n",
    "        }\n",
    "    }\n",
    "}"
   ]
  },
  {
   "cell_type": "markdown",
   "metadata": {},
   "source": [
    "#### Hacks"
   ]
  },
  {
   "cell_type": "code",
   "execution_count": null,
   "metadata": {
    "vscode": {
     "languageId": "java"
    }
   },
   "outputs": [],
   "source": [
    "// Build the loop\n",
    "public class Main {\n",
    "    public static void main(String[] args) {\n",
    "        // Initialize the array of strings\n",
    "        String[] myArray = {\"Apple\", \"Banana\", \"Grapes\", \"Strawberry\", \"Orange\"};\n",
    "\n",
    "        // Add a loop to go through the array and print each element\n",
    "        for (String fruit : myArray) {\n",
    "            // Print the current fruit to the console\n",
    "            System.out.println(fruit);\n",
    "        }\n",
    "    }\n",
    "}"
   ]
  },
  {
   "cell_type": "code",
   "execution_count": null,
   "metadata": {
    "vscode": {
     "languageId": "java"
    }
   },
   "outputs": [],
   "source": [
    "// Multiple choice - Option D\n",
    "public class Main {\n",
    "    private String[] myArray = {\n",
    "        \"And\", \"Table\", \"Shirts\", \"Tea\", \"School Day\"\n",
    "\n",
    "        // Loop through each word in myArray\n",
    "        for (String currentWord : myArray) {\n",
    "            // Print the length of the current word\n",
    "            System.out.println(currentWord.length());\n",
    "        }\n",
    "    }\n",
    "}"
   ]
  },
  {
   "cell_type": "code",
   "execution_count": null,
   "metadata": {
    "vscode": {
     "languageId": "java"
    }
   },
   "outputs": [],
   "source": [
    "// Find each index of the letter ‘a’ in each word\n",
    "public class Main {\n",
    "    public static void main(String[] args) {\n",
    "        String[] fruits = {\"Apple\", \"Banana\", \"Orange\"};\n",
    "\n",
    "        // Loop through each fruit in the array\n",
    "        for (String fruit : fruits) {\n",
    "            // Find the index of the letter 'a' in the current fruit (case-sensitive)\n",
    "            int index = fruit.indexOf('a'); // This will return -1 if 'a' is not found\n",
    "\n",
    "            // Print the result\n",
    "            if (index != -1) {\n",
    "                System.out.println(\"The letter 'a' is found at index: \" + index + \" in \" + fruit);\n",
    "            } else {\n",
    "                System.out.println(\"The letter 'a' is not found in \" + fruit);\n",
    "            }\n",
    "        }\n",
    "    }\n",
    "}"
   ]
  },
  {
   "cell_type": "code",
   "execution_count": null,
   "metadata": {
    "vscode": {
     "languageId": "java"
    }
   },
   "outputs": [],
   "source": [
    "// Find the error\n",
    "public class Main {\n",
    "    public static void main(String[] args) {\n",
    "        String[] myArray = {\"Object 1\", \"Object 2\", \"Object 3\", \"Object 4\", \"Object 5\"};\n",
    "\n",
    "        for (String currentWord : myArray) { //Error 1: fixed for loop syntax\n",
    "            System.out.println(currentWord); //Error 2: Fixed to System.out.println instead of System.out\n",
    "        } // Error 3: removed semicolon\n",
    "    }\n",
    "}\n"
   ]
  },
  {
   "cell_type": "markdown",
   "metadata": {},
   "source": [
    "#### Final Hack"
   ]
  },
  {
   "cell_type": "code",
   "execution_count": null,
   "metadata": {
    "vscode": {
     "languageId": "java"
    }
   },
   "outputs": [],
   "source": [
    "import java.util.Arrays;\n",
    "import java.util.Scanner;\n",
    "\n",
    "public class AverageGradeCalculator {\n",
    "    public static void main(String[] args) {\n",
    "        Integer[] grades = {88, 93, 55, 68, 77};\n",
    "\n",
    "        Scanner userGrades = new Scanner(System.in);\n",
    "        System.out.print(\"Enter a grade: \");\n",
    "        int grade = Integer.parseInt(userGrades.nextLine());\n",
    "\n",
    "        // Add the new grade to the grades array\n",
    "        grades = Arrays.copyOf(grades, grades.length + 1);\n",
    "        grades[grades.length - 1] = grade;\n",
    "        System.out.println(\"Updated grades: \" + Arrays.toString(grades));\n",
    "\n",
    "        // Calculate the average grade using an enhanced for loop\n",
    "        int sum = 0; \n",
    "        for (int currentGrade : grades) {\n",
    "            sum += currentGrade; \n",
    "        }\n",
    "\n",
    "        // Calculate the average\n",
    "        double average = (double) sum / grades.length; // Compute the average\n",
    "        System.out.printf(\"The average grade is: %.2f%n\", average); // Print the average with 2 decimal places\n",
    "\n",
    "        // Close the scanner\n",
    "        userGrades.close();\n",
    "    }\n",
    "}\n"
   ]
  },
  {
   "cell_type": "markdown",
   "metadata": {},
   "source": [
    "### Unit 6.4 Algos\n",
    "#### Popcorn Hack: If an integer in the array is greater than the integer below it, print “Increase”"
   ]
  },
  {
   "cell_type": "code",
   "execution_count": null,
   "metadata": {
    "vscode": {
     "languageId": "java"
    }
   },
   "outputs": [],
   "source": [
    "public class IncreaseChecker {\n",
    "    public static void main(String[] args) {\n",
    "        int[] numbers = {10, 15, 7, 20, 18}; // Sample array\n",
    "\n",
    "        for (int i = 0; i < numbers.length - 1; i++) {\n",
    "            // Check if the current element is greater than the element below it\n",
    "            if (numbers[i] > numbers[i + 1]) {\n",
    "                System.out.println(\"Increase\");\n",
    "            }\n",
    "        }\n",
    "    }\n",
    "}\n"
   ]
  },
  {
   "cell_type": "markdown",
   "metadata": {},
   "source": [
    "#### HW Hack: Go through the array in reverse order and output each object"
   ]
  },
  {
   "cell_type": "code",
   "execution_count": null,
   "metadata": {
    "vscode": {
     "languageId": "java"
    }
   },
   "outputs": [],
   "source": [
    "public class ReverseArrayOutput {\n",
    "    public static void main(String[] args) {\n",
    "        Integer[] myArray = {0, 1, 2, 3, 4, 5};\n",
    "\n",
    "        // Start from the last index and decrement to 0\n",
    "        for (int i = myArray.length - 1; i >= 0; i--) {\n",
    "            // Output each object in reverse order\n",
    "            System.out.println(myArray[i]);\n",
    "        }\n",
    "    }\n",
    "}"
   ]
  },
  {
   "cell_type": "markdown",
   "metadata": {},
   "source": [
    "#### HW Hack: Print words while skipping every other word (“Alpha”, “Gamma”, “Beta”, “Delta”)"
   ]
  },
  {
   "cell_type": "code",
   "execution_count": null,
   "metadata": {
    "vscode": {
     "languageId": "java"
    }
   },
   "outputs": [],
   "source": [
    "public class WordShifter {  \n",
    "    public static void main(String[] args) {\n",
    "        String[] words = {\"alpha\", \"beta\", \"gamma\", \"delta\"};\n",
    "        int shiftWord = 2;\n",
    "\n",
    "        // Shift words to the left by 'shiftWord' positions\n",
    "        for (int count = 0; count < shiftWord; count++) {\n",
    "            String temp = words[0];\n",
    "            for (int index = 0; index < words.length - 1; index++) {\n",
    "                words[index] = words[index + 1];\n",
    "            }\n",
    "            words[words.length - 1] = temp;\n",
    "        }\n",
    "\n",
    "        // Print words while skipping every other word\n",
    "        for (int i = 0; i < words.length; i++) {\n",
    "            // Check if the index is even\n",
    "            if (i % 2 == 0) {\n",
    "                System.out.print(words[i] + \" \"); // Print the word if index is even\n",
    "            }\n",
    "        }\n",
    "    }\n",
    "}\n"
   ]
  }
 ],
 "metadata": {
  "kernelspec": {
   "display_name": "Python 3 (ipykernel)",
   "language": "python",
   "name": "python3"
  },
  "language_info": {
   "codemirror_mode": {
    "name": "ipython",
    "version": 3
   },
   "file_extension": ".py",
   "mimetype": "text/x-python",
   "name": "python",
   "nbconvert_exporter": "python",
   "pygments_lexer": "ipython3",
   "version": "3.11.9"
  }
 },
 "nbformat": 4,
 "nbformat_minor": 4
}
