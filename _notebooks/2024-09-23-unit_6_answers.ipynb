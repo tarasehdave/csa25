{
 "cells": [
  {
   "cell_type": "markdown",
   "metadata": {},
   "source": [
    "## Unit 6 Popcorn Quiz Answers\n",
    "\n",
    "### Unit 6.1 Array Creation and Access\n",
    "\n",
    "Question: How would you find the index of the last element of the array, if you didn’t know how many elements there were in the array?\n",
    "Answer: We can use  length property of an array to find the index of the last element when the number of elements in the array is unknown.\n"
   ]
  },
  {
   "cell_type": "code",
   "execution_count": null,
   "metadata": {
    "vscode": {
     "languageId": "java"
    }
   },
   "outputs": [],
   "source": [
    "// Finding the index of the last element\n",
    "int lastIndex = array.length - 1;"
   ]
  },
  {
   "cell_type": "markdown",
   "metadata": {},
   "source": [
    "#### Popcorn Hack (do this on separate cells)\n",
    "1. Create an array called “city_array” with the elements “San Diego”, “Los Angeles”, “San Francisco”, “Sacramento\"\n",
    "\n",
    "2. Print out the first element in the array\n",
    "\n",
    "3. Print out the third element in the array\n",
    "\n",
    "4. Change the second element in the array to “Sacramento”\n",
    "\n",
    "5. Change the fourth element in the array to “San Jose”\n",
    "\n",
    "6. Print out the length of the array"
   ]
  },
  {
   "cell_type": "code",
   "execution_count": null,
   "metadata": {
    "vscode": {
     "languageId": "java"
    }
   },
   "outputs": [],
   "source": [
    "public class Main {\n",
    "    public static void main(String[] args) {\n",
    "        // Create the city_array\n",
    "        String[] city_array = {\"San Diego\", \"Los Angeles\", \"San Francisco\", \"Sacramento\"};\n",
    "        \n",
    "        // Print out the first element in the array\n",
    "        System.out.println(\"First element: \" + city_array[0]);\n",
    "        \n",
    "        // Print out the third element in the array\n",
    "        System.out.println(\"Third element: \" + city_array[2]);\n",
    "        \n",
    "        // Change the second element in the array to \"Sacramento\"\n",
    "        city_array[1] = \"Sacramento\";\n",
    "        \n",
    "        // Change the fourth element in the array to \"San Jose\"\n",
    "        city_array[3] = \"San Jose\";\n",
    "        \n",
    "        // Print out the length of the array\n",
    "        System.out.println(\"Length of the array: \" + city_array.length);        \n",
    "\n",
    "    }\n",
    "}\n"
   ]
  },
  {
   "cell_type": "markdown",
   "metadata": {},
   "source": [
    "Output:\n",
    "- First element: San Diego\n",
    "- Third element: San Francisco\n",
    "- Length of the array: 4"
   ]
  },
  {
   "cell_type": "markdown",
   "metadata": {},
   "source": [
    "#### Popcorn Hack:\n",
    "Create four new INITIALIZED arrays, with int, string, double, and boolean types respectively. Print out the second element of each array to see the default values."
   ]
  },
  {
   "cell_type": "code",
   "execution_count": null,
   "metadata": {
    "vscode": {
     "languageId": "java"
    }
   },
   "outputs": [],
   "source": [
    "public class Main {\n",
    "    public static void main(String[] args) {\n",
    "        // Create an array of integers (default value is 0)\n",
    "        int[] intArray = new int[5]; // Array of size 5\n",
    "\n",
    "        // Create an array of strings (default value is null)\n",
    "        String[] stringArray = new String[5]; // Array of size 5\n",
    "\n",
    "        // Create an array of doubles (default value is 0.0)\n",
    "        double[] doubleArray = new double[5]; // Array of size 5\n",
    "\n",
    "        // Create an array of booleans (default value is false)\n",
    "        boolean[] booleanArray = new boolean[5]; // Array of size 5\n",
    "\n",
    "        // Print out the second element of each array\n",
    "        System.out.println(\"Second element of intArray: \" + intArray[1]);\n",
    "        System.out.println(\"Second element of stringArray: \" + stringArray[1]);\n",
    "        System.out.println(\"Second element of doubleArray: \" + doubleArray[1]);\n",
    "        System.out.println(\"Second element of booleanArray: \" + booleanArray[1]);\n",
    "    }\n",
    "}\n"
   ]
  },
  {
   "cell_type": "markdown",
   "metadata": {},
   "source": [
    "OUTPUT:\n",
    "- Second element of intArray: 0\n",
    "- Second element of stringArray: null\n",
    "- Second element of doubleArray: 0.0\n",
    "- Second element of booleanArray: false\n"
   ]
  },
  {
   "cell_type": "markdown",
   "metadata": {},
   "source": [
    "#### Practice MCQs\n",
    "Question 1: \n",
    "- Answer: option D. This accesses the string at the third last index of arr and then calls indexOf(find) on that string.\n",
    "\n",
    "Question 2:\n",
    "- ANswer: option B. The mystery method uses the formula arr[1] + arr[4]/2 to calulate the resulting value. For input list = {1,9,2,5,6}, this would result in 9 + 6/2 = 12"
   ]
  },
  {
   "cell_type": "markdown",
   "metadata": {},
   "source": [
    "### Unit 6.2 "
   ]
  }
 ],
 "metadata": {
  "kernelspec": {
   "display_name": "Python 3 (ipykernel)",
   "language": "python",
   "name": "python3"
  },
  "language_info": {
   "codemirror_mode": {
    "name": "ipython",
    "version": 3
   },
   "file_extension": ".py",
   "mimetype": "text/x-python",
   "name": "python",
   "nbconvert_exporter": "python",
   "pygments_lexer": "ipython3",
   "version": "3.11.9"
  }
 },
 "nbformat": 4,
 "nbformat_minor": 4
}
