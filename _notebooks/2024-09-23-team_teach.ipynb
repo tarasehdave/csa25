{
 "cells": [
  {
   "cell_type": "markdown",
   "metadata": {},
   "source": [
    "## Sprint 2 Review Blog"
   ]
  },
  {
   "cell_type": "markdown",
   "metadata": {},
   "source": [
    "### PRACTICE: Objects and Void Methods \n",
    "\n",
    "Try and create a class in the following code space to represent a dog.\n"
   ]
  },
  {
   "cell_type": "code",
   "execution_count": null,
   "metadata": {
    "vscode": {
     "languageId": "java"
    }
   },
   "outputs": [],
   "source": [
    "public class Dog {\n",
    "    private String name;\n",
    "    private String breed;\n",
    "    private int age;\n",
    "\n",
    "    public Dog(String n, String b, int a) {\n",
    "       this.name = n;\n",
    "       this.breed = b;\n",
    "       this.age = a; \n",
    "    }\n",
    "\n",
    "    public void bark() {\n",
    "        System.out.println(\"woof!\");\n",
    "    }\n",
    "    \n",
    "    // optional getter methods\n",
    "    public String getName() {\n",
    "        return name;\n",
    "    }\n",
    "\n",
    "    public String getBreed() {\n",
    "        return breed;\n",
    "    }\n",
    "\n",
    "    public int getAge() {\n",
    "        return age;\n",
    "    }\n",
    "\n",
    "}\n",
    "\n",
    "public class Main {\n",
    "    public static void main(String[] args) {\n",
    "        Dog myDog = new Dog(\"Shelby\", \"Golden Retriever\", 5); // name, breed, age\n",
    "        myDog.bark(); // should print \"Woof!\"\n",
    "    }\n",
    "}"
   ]
  },
  {
   "cell_type": "markdown",
   "metadata": {},
   "source": [
    "### PRACTICE: Wrapper Classes & Math Module"
   ]
  },
  {
   "cell_type": "markdown",
   "metadata": {},
   "source": [
    "#### Practice Exercises \n",
    "\n",
    "Fix the code below!\n",
    "\n"
   ]
  },
  {
   "cell_type": "markdown",
   "metadata": {},
   "source": [
    "Before"
   ]
  },
  {
   "cell_type": "code",
   "execution_count": null,
   "metadata": {
    "vscode": {
     "languageId": "java"
    }
   },
   "outputs": [],
   "source": [
    "public class Main {\n",
    "    public static void main(String[] args) {\n",
    "        integer num1 = 50;\n",
    "        Integer num2 = new Integer(75);\n",
    "        \n",
    "        Double d1 = 3.14;\n",
    "        double d2 = new Double(2.718);\n",
    "        \n",
    "        System.out.println(\"Sum of integers: \" + (num1 + num2));\n",
    "        System.out.println(\"Product of doubles: \" + (d1 * d2));\n",
    "    }\n",
    "}"
   ]
  },
  {
   "cell_type": "markdown",
   "metadata": {},
   "source": [
    "After"
   ]
  },
  {
   "cell_type": "code",
   "execution_count": null,
   "metadata": {
    "vscode": {
     "languageId": "java"
    }
   },
   "outputs": [],
   "source": [
    "public class Main {\n",
    "    public static void main(String[] args) {\n",
    "        Integer num1 = 50;\n",
    "        Integer num2 = 75; \n",
    "\n",
    "        // Use autoboxing for Double\n",
    "        Double d1 = 3.14;\n",
    "        double d2 = 2.718; \n",
    "\n",
    "        System.out.println(\"Sum of integers: \" + (num1 + num2));\n",
    "        System.out.println(\"Product of doubles: \" + (d1 * d2));\n",
    "    }\n",
    "}\n"
   ]
  },
  {
   "cell_type": "markdown",
   "metadata": {},
   "source": [
    "#### Now, complete the exercise below without any extra help."
   ]
  },
  {
   "cell_type": "markdown",
   "metadata": {},
   "source": [
    "Before"
   ]
  },
  {
   "cell_type": "code",
   "execution_count": null,
   "metadata": {
    "vscode": {
     "languageId": "java"
    }
   },
   "outputs": [],
   "source": [
    "public class Main {\n",
    "    public static void main(String[] args) {\n",
    "        // TODO: Create an Integer object using autoboxing\n",
    "        \n",
    "        // TODO: Create a double primitive from a Double object (unboxing)\n",
    "        \n",
    "        // TODO: Print both values\n",
    "    }\n",
    "}"
   ]
  },
  {
   "cell_type": "markdown",
   "metadata": {},
   "source": [
    "After"
   ]
  },
  {
   "cell_type": "code",
   "execution_count": null,
   "metadata": {
    "vscode": {
     "languageId": "java"
    }
   },
   "outputs": [],
   "source": [
    "public class Main {\n",
    "    public static void main(String[] args) {\n",
    "        Integer num = 100;\n",
    "\n",
    "        Double doubleObj = 3.14159\n",
    "        double pi = doubleObj;\n",
    "\n",
    "        System.outprintln(\"Integer value: \" + num);\n",
    "        System.out.println(\"Double value: \" + pi); \n",
    "        \n",
    "    }\n",
    "}"
   ]
  },
  {
   "cell_type": "markdown",
   "metadata": {},
   "source": [
    "#### Let’s try a practice! Fill in the function below, randomize, following the steps below:\n",
    "\n",
    "- 1. Take the absolute value of both numbers.\n",
    "- 2. Return a random number in between those two numbers, inclusive"
   ]
  },
  {
   "cell_type": "markdown",
   "metadata": {},
   "source": [
    "Before"
   ]
  },
  {
   "cell_type": "code",
   "execution_count": null,
   "metadata": {
    "vscode": {
     "languageId": "java"
    }
   },
   "outputs": [],
   "source": [
    "import java.util.*;\n",
    "public class Main {\n",
    "    public double randomize(double a, double b){\n",
    "        // TODO: Enter code here! Don't forget a return statement\n",
    "    }\n",
    "    public static void main(String[] args) {\n",
    "       Scanner scan = new Scanner(System.in);\n",
    "       double a = scan.nextDouble();\n",
    "       double b = scan.nextDouble();\n",
    "\n",
    "       System.out.println(randomize(a, b));\n",
    "    }\n",
    "}\n",
    "\n",
    "// The error will be returned below in the code cell\n"
   ]
  },
  {
   "cell_type": "markdown",
   "metadata": {},
   "source": [
    "After "
   ]
  },
  {
   "cell_type": "code",
   "execution_count": null,
   "metadata": {
    "vscode": {
     "languageId": "java"
    }
   },
   "outputs": [],
   "source": [
    "import java.util.*;\n",
    "\n",
    "public class Main {\n",
    "    public double randomize(double a, double b){\n",
    "        double absA = Math.abs(a);\n",
    "        double absB = Math.abs(b);\n",
    "\n",
    "        double min = Math.min(absA, absB);\n",
    "        double max = Math.max(absA, absB);\n",
    "\n",
    "        return min + (Math.random() * (max - min));\n",
    "    }\n",
    "\n",
    "    public static void main(String[] args) {\n",
    "       Scanner scan = new Scanner(System.in);\n",
    "       double a = scan.nextDouble();\n",
    "       double b = scan.nextDouble();\n",
    "\n",
    "       System.out.println(randomize(a, b));\n",
    "    }\n",
    "}"
   ]
  },
  {
   "cell_type": "markdown",
   "metadata": {},
   "source": [
    "### Homework "
   ]
  },
  {
   "cell_type": "markdown",
   "metadata": {},
   "source": [
    "#### Now, it’s time to practice! The following problem will incorporate the following concepts:\n",
    "\n",
    "- Classes\n",
    "- Constructors\n",
    "- Methods\n",
    "- Void methods\n",
    "- Non-void methods\n",
    "- Math class\n",
    "- Integer and Double wrapper classes\n",
    "- String methods"
   ]
  },
  {
   "cell_type": "code",
   "execution_count": null,
   "metadata": {
    "vscode": {
     "languageId": "java"
    }
   },
   "outputs": [],
   "source": [
    "public class Circle {\n",
    "    double radius;\n",
    "\n",
    "    public Circle(double radius)\n",
    "\n",
    "    // 2. Make a constructor that takes in the radius as a parameter, and sets the radius property\n",
    "\n",
    "    // 3. cirumference() method: Calculate and return the circumference\n",
    "\n",
    "    // 4. area() method: Calculate and return the area, use Math.pow()\n",
    "}"
   ]
  },
  {
   "cell_type": "code",
   "execution_count": null,
   "metadata": {
    "vscode": {
     "languageId": "java"
    }
   },
   "outputs": [],
   "source": [
    "public class Circle {\n",
    "    // 1. Class variable: radius (double)\n",
    "    double radius;\n",
    "\n",
    "    // 2. Constructor that takes in the radius as a parameter, and sets the radius property\n",
    "    public Circle(double radius) {\n",
    "        this.radius = radius;\n",
    "    }\n",
    "\n",
    "    // 3. circumference() method: Calculate and return the circumference\n",
    "    public double circumference() {\n",
    "        return 2 * Math.PI * radius;\n",
    "    }\n",
    "\n",
    "    // 4. area() method: Calculate and return the area, use Math.pow()\n",
    "    public double area() {\n",
    "        return Math.PI * Math.pow(radius, 2);\n",
    "    }\n",
    "}\n",
    "\n",
    "public class Student {\n",
    "    // 1. Class variables: name (String) and grade (Integer)\n",
    "    String name;\n",
    "    Integer grade;\n",
    "\n",
    "    // 2. Constructor to initialize name and grade\n",
    "    public Student(String name, Integer grade) {\n",
    "        this.name = name;\n",
    "        this.grade = grade;\n",
    "    }\n",
    "\n",
    "    // 3. nameLength() method: Return the length of the students name\n",
    "    public int nameLength() {\n",
    "        return name.length();\n",
    "    }\n",
    "\n",
    "    // 4. getGradeAsDouble() method: Return the grade as the Double wrapper type\n",
    "    public Double getGradeAsDouble() {\n",
    "        return grade.doubleValue();\n",
    "    }\n",
    "\n",
    "    // 5. getScaledGrade() method: Return grade divided by 2\n",
    "    public double getScaledGrade() {\n",
    "        return grade / 2.0;\n",
    "    }\n",
    "}\n",
    "\n",
    "public class Main {\n",
    "    public static void main(String[] args) {\n",
    "        // Testing the Circle class\n",
    "        Circle circle1 = new Circle(5.0);\n",
    "        Circle circle2 = new Circle(7.0);\n",
    "\n",
    "        System.out.println(\"Circle 1:\");\n",
    "        System.out.println(\"Radius: \" + circle1.radius);\n",
    "        System.out.println(\"Circumference: \" + circle1.circumference());\n",
    "        System.out.println(\"Area: \" + circle1.area());\n",
    "\n",
    "        System.out.println(\"\\nCircle 2:\");\n",
    "        System.out.println(\"Radius: \" + circle2.radius);\n",
    "        System.out.println(\"Circumference: \" + circle2.circumference());\n",
    "        System.out.println(\"Area: \" + circle2.area());\n",
    "\n",
    "        // Testing the Student class\n",
    "        Student student1 = new Student(\"Aadit\", 75);\n",
    "        Student student2 = new Student(\"Emily\", 45);\n",
    "\n",
    "        System.out.println(\"\\nStudent 1:\");\n",
    "        System.out.println(\"Name: \" + student1.name);\n",
    "        System.out.println(\"Name Length: \" + student1.nameLength());\n",
    "        System.out.println(\"Grade: \" + student1.getGradeAsDouble());\n",
    "        System.out.println(\"Scaled Grade: \" + student1.getScaledGrade());\n",
    "\n",
    "        System.out.println(\"\\nStudent 2:\");\n",
    "        System.out.println(\"Name: \" + student2.name);\n",
    "        System.out.println(\"Name Length: \" + student2.nameLength());\n",
    "        System.out.println(\"Grade: \" + student2.getGradeAsDouble());\n",
    "        System.out.println(\"Scaled Grade: \" + student2.getScaledGrade());\n",
    "    }\n",
    "}\n"
   ]
  },
  {
   "cell_type": "markdown",
   "metadata": {},
   "source": [
    "### Output\n",
    "Circle 1:\n",
    "- Radius: 5.0\n",
    "- Circumference: 31.41592653589793\n",
    "- Area: 78.53981633974483\n",
    "\n",
    "Circle 2:\n",
    "- Radius: 7.0\n",
    "- Circumference: 43.982297150257104\n",
    "- Area: 153.93804002589985\n",
    "\n",
    "Student 1:\n",
    "- Name: Aadit\n",
    "- Name Length: 5\n",
    "- Grade: 75.0\n",
    "- Scaled Grade: 37.5\n",
    "\n",
    "Student 2:\n",
    "- Name: Emily\n",
    "- Name Length: 5\n",
    "- Grade: 45.0\n",
    "- Scaled Grade: 22.5"
   ]
  }
 ],
 "metadata": {
  "kernelspec": {
   "display_name": "Python 3 (ipykernel)",
   "language": "python",
   "name": "python3"
  },
  "language_info": {
   "codemirror_mode": {
    "name": "ipython",
    "version": 3
   },
   "file_extension": ".py",
   "mimetype": "text/x-python",
   "name": "python",
   "nbconvert_exporter": "python",
   "pygments_lexer": "ipython3",
   "version": "3.11.9"
  }
 },
 "nbformat": 4,
 "nbformat_minor": 4
}
