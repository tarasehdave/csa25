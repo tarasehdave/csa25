{
 "cells": [
  {
   "cell_type": "markdown",
   "metadata": {},
   "source": [
    "## Unit 2 Popcorn Quiz Answers"
   ]
  },
  {
   "cell_type": "markdown",
   "metadata": {},
   "source": [
    "### PRACTICE: Objects and Void Methods \n",
    "\n",
    "Try and create a class in the following code space to represent a dog.\n"
   ]
  },
  {
   "cell_type": "code",
   "execution_count": null,
   "metadata": {
    "vscode": {
     "languageId": "java"
    }
   },
   "outputs": [],
   "source": [
    "public class Dog {\n",
    "    private String name;\n",
    "    private String breed;\n",
    "    private int age;\n",
    "\n",
    "    public Dog(String name, String breed, int age) {\n",
    "       name = n;\n",
    "       breed = b;\n",
    "       age = a; \n",
    "    }\n",
    "\n",
    "    public void bark() {\n",
    "        System.out.println(\"woof!\");\n",
    "    }\n",
    "\n",
    "}\n",
    "\n",
    "public class Main {\n",
    "    public static void main(String[] args) {\n",
    "        Dog myDog = new Dog(\"Shelby\", \"Golden Retriever\", 5); // name, breed, age\n",
    "        myDog.bark(); // should print \"Woof!\"\n",
    "    }\n",
    "}"
   ]
  },
  {
   "cell_type": "markdown",
   "metadata": {},
   "source": [
    "### PRACTICE: Wrapper Classes & Math Module"
   ]
  },
  {
   "cell_type": "markdown",
   "metadata": {},
   "source": [
    "#### Practice Exercises \n",
    "\n",
    "Fix the code below!\n",
    "\n"
   ]
  },
  {
   "cell_type": "markdown",
   "metadata": {},
   "source": [
    "Before"
   ]
  },
  {
   "cell_type": "code",
   "execution_count": null,
   "metadata": {
    "vscode": {
     "languageId": "java"
    }
   },
   "outputs": [],
   "source": [
    "public class Main {\n",
    "    public static void main(String[] args) {\n",
    "        integer num1 = 50;\n",
    "        Integer num2 = new Integer(75);\n",
    "        \n",
    "        Double d1 = 3.14;\n",
    "        double d2 = new Double(2.718);\n",
    "        \n",
    "        System.out.println(\"Sum of integers: \" + (num1 + num2));\n",
    "        System.out.println(\"Product of doubles: \" + (d1 * d2));\n",
    "    }\n",
    "}"
   ]
  },
  {
   "cell_type": "markdown",
   "metadata": {},
   "source": [
    "After"
   ]
  },
  {
   "cell_type": "code",
   "execution_count": null,
   "metadata": {
    "vscode": {
     "languageId": "java"
    }
   },
   "outputs": [],
   "source": [
    "public class Main {\n",
    "    public static void main(String[] args) {\n",
    "        Integer num1 = 50; \n",
    "        Integer num2 = 75; \n",
    "  \n",
    "        Double d1 = 3.14;\n",
    "        double d2 = 2.718; \n",
    "\n",
    "        System.out.println(\"Sum of integers: \" + (num1 + num2));\n",
    "        System.out.println(\"Product of doubles: \" + (d1 * d2));\n",
    "    }\n",
    "}\n"
   ]
  },
  {
   "cell_type": "markdown",
   "metadata": {},
   "source": [
    "#### Now, complete the exercise below without any extra help."
   ]
  },
  {
   "cell_type": "markdown",
   "metadata": {},
   "source": [
    "Before"
   ]
  },
  {
   "cell_type": "code",
   "execution_count": null,
   "metadata": {
    "vscode": {
     "languageId": "java"
    }
   },
   "outputs": [],
   "source": [
    "public class Main {\n",
    "    public static void main(String[] args) {\n",
    "        // TODO: Create an Integer object using autoboxing\n",
    "        \n",
    "        // TODO: Create a double primitive from a Double object (unboxing)\n",
    "        \n",
    "        // TODO: Print both values\n",
    "    }\n",
    "}"
   ]
  },
  {
   "cell_type": "markdown",
   "metadata": {},
   "source": [
    "After"
   ]
  },
  {
   "cell_type": "code",
   "execution_count": null,
   "metadata": {
    "vscode": {
     "languageId": "java"
    }
   },
   "outputs": [],
   "source": [
    "public class Main {\n",
    "    public static void main(String[] args) {\n",
    "        Integer num = 100;\n",
    "\n",
    "        Double doubleObj = 3.14159\n",
    "        double pi = doubleObj;\n",
    "\n",
    "        System.outprintln(\"Integer value: \" + num);\n",
    "        System.out.println(\"Double value: \" + pi); \n",
    "        \n",
    "    }\n",
    "}"
   ]
  },
  {
   "cell_type": "markdown",
   "metadata": {},
   "source": [
    "#### Let’s try a practice! Fill in the function below, randomize, following the steps below:\n",
    "\n",
    "#### 1. Take the absolute value of both numbers.\n",
    "#### 2. Return a random number in between those two numbers, inclusive"
   ]
  },
  {
   "cell_type": "markdown",
   "metadata": {},
   "source": [
    "Before"
   ]
  },
  {
   "cell_type": "code",
   "execution_count": null,
   "metadata": {
    "vscode": {
     "languageId": "java"
    }
   },
   "outputs": [],
   "source": [
    "import java.util.*;\n",
    "public class Main {\n",
    "    public double randomize(double a, double b){\n",
    "        // TODO: Enter code here! Don't forget a return statement\n",
    "    }\n",
    "    public static void main(String[] args) {\n",
    "       Scanner scan = new Scanner(System.in);\n",
    "       double a = scan.nextDouble();\n",
    "       double b = scan.nextDouble();\n",
    "\n",
    "       System.out.println(randomize(a, b));\n",
    "    }\n",
    "}\n",
    "\n",
    "// The error will be returned below in the code cell\n"
   ]
  },
  {
   "cell_type": "markdown",
   "metadata": {},
   "source": [
    "After "
   ]
  },
  {
   "cell_type": "code",
   "execution_count": null,
   "metadata": {
    "vscode": {
     "languageId": "java"
    }
   },
   "outputs": [],
   "source": [
    "import java.util.*;\n",
    "\n",
    "public class Main {\n",
    "    public double randomize(double a, double b){\n",
    "        double absA = Math.abs(a);\n",
    "        double absB = Math.abs(b);\n",
    "\n",
    "        double min = Math.min(absA, absB);\n",
    "        double max = Math.max(absA, absB);\n",
    "\n",
    "        return min = (Math.random() * (max - min));\n",
    "    }\n",
    "\n",
    "    public static void main(String[] args) {\n",
    "       Scanner scan = new Scanner(System.in);\n",
    "       double a = scan.nextDouble();\n",
    "       double b = scan.nextDouble();\n",
    "\n",
    "       System.out.println(randomize(a, b));\n",
    "    }\n",
    "}"
   ]
  },
  {
   "cell_type": "markdown",
   "metadata": {},
   "source": [
    "### Homework "
   ]
  },
  {
   "cell_type": "markdown",
   "metadata": {},
   "source": [
    "#### Now, it’s time to practice! The following problem will incorporate the following concepts:\n",
    "\n",
    "#### Classes\n",
    "#### Constructors\n",
    "#### Methods\n",
    "#### Void methods\n",
    "#### Non-void methods\n",
    "#### Math class\n",
    "#### Integer and Double wrapper classes\n",
    "#### String methods\n",
    "#### public class Circle {\n",
    " "
   ]
  },
  {
   "cell_type": "markdown",
   "metadata": {},
   "source": [
    "Circle Class"
   ]
  },
  {
   "cell_type": "code",
   "execution_count": null,
   "metadata": {
    "vscode": {
     "languageId": "java"
    }
   },
   "outputs": [],
   "source": [
    "public class Circle {\n",
    "    double radius;\n",
    "\n",
    "    public Circle(double radius)\n",
    "\n",
    "    // 2. Make a constructor that takes in the radius as a parameter, and sets the radius property\n",
    "\n",
    "    // 3. cirumference() method: Calculate and return the circumference\n",
    "\n",
    "    // 4. area() method: Calculate and return the area, use Math.pow()\n",
    "}"
   ]
  },
  {
   "cell_type": "code",
   "execution_count": null,
   "metadata": {
    "vscode": {
     "languageId": "java"
    }
   },
   "outputs": [],
   "source": [
    "public class Circle {\n",
    "    // 1. Class variable: radius (double)\n",
    "    double radius;\n",
    "\n",
    "    // 2. Constructor that takes in the radius as a parameter and sets the radius property\n",
    "    public Circle(double radius) {\n",
    "        this.radius = radius;\n",
    "    }\n",
    "\n",
    "    // 3. circumference() method: Calculate and return the circumference\n",
    "    public double circumference() {\n",
    "        return 2 * Math.PI * this.radius;\n",
    "    }\n",
    "\n",
    "    // 4. area() method: Calculate and return the area using Math.pow()\n",
    "    public double area() {\n",
    "        return Math.PI * Math.pow(this.radius, 2);\n",
    "    }\n",
    "}\n"
   ]
  },
  {
   "cell_type": "code",
   "execution_count": null,
   "metadata": {
    "vscode": {
     "languageId": "java"
    }
   },
   "outputs": [],
   "source": [
    "public class Student {\n",
    "    private String name;\n",
    "    private int score;\n",
    "    \n",
    "    // Default constructor\n",
    "    public Student() {\n",
    "        name = \"\";\n",
    "        score = 0;   \n",
    "    }\n",
    "\n",
    "    // Overloaded constructor\n",
    "    public Student(String n, int s) {\n",
    "        name = n;\n",
    "        score = s;\n",
    "    }\n",
    "\n",
    "    //Accessor Methods\n",
    "    public String getName() {\n",
    "        return name;\n",
    "    }\n",
    "\n",
    "    public int getScore(){\n",
    "        return score;\n",
    "    }\n",
    "\n",
    "    //Mutator Methods\n",
    "    public void setName(String n){\n",
    "        name = n;\n",
    "    }\n",
    "\n",
    "    public void setScore(int s){\n",
    "        if(s < 0 || s > 100){\n",
    "            score = 0; //default value\n",
    "        }\n",
    "        else {\n",
    "            score = s;\n",
    "        }\n",
    "    }\n",
    "\n",
    "    public boolean pass(){\n",
    "        return (score >= 70);\n",
    "    }\n",
    "}"
   ]
  }
 ],
 "metadata": {
  "kernelspec": {
   "display_name": "Python 3 (ipykernel)",
   "language": "python",
   "name": "python3"
  },
  "language_info": {
   "codemirror_mode": {
    "name": "ipython",
    "version": 3
   },
   "file_extension": ".py",
   "mimetype": "text/x-python",
   "name": "python",
   "nbconvert_exporter": "python",
   "pygments_lexer": "ipython3",
   "version": "3.11.9"
  }
 },
 "nbformat": 4,
 "nbformat_minor": 4
}
