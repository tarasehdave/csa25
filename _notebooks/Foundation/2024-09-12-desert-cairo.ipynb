{
 "cells": [
  {
   "cell_type": "markdown",
   "metadata": {},
   "source": [
    "---\n",
    "toc: True\n",
    "comments: True\n",
    "layout: post\n",
    "title: Cairo, Egypt\n",
    "type: ccc\n",
    "permalink: traveling/locations/cairo\n",
    "menu: nav/home.html\n",
    "courses: { csa: {week: 0} }\n",
    "---"
   ]
  },
  {
   "cell_type": "markdown",
   "metadata": {},
   "source": [
    "![Cairo](../../images/locations/cairo.png)"
   ]
  },
  {
   "cell_type": "markdown",
   "metadata": {},
   "source": [
    "Cairo, the capital of Egypt, is a sprawling metropolis that serves as a gateway to the ancient world. Known for its proximity to the Pyramids of Giza and the Sphinx, Cairo is steeped in history, with a rich cultural heritage that includes the Islamic architecture of its mosques and the treasures of the Egyptian Museum."
   ]
  }
 ],
 "metadata": {
  "language_info": {
   "name": "python"
  },
  "orig_nbformat": 4
 },
 "nbformat": 4,
 "nbformat_minor": 2
}
