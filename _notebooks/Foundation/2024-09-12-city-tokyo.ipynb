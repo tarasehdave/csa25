{
 "cells": [
  {
   "cell_type": "markdown",
   "metadata": {},
   "source": [
    "---\n",
    "toc: True\n",
    "comments: True\n",
    "layout: post\n",
    "title: Tokyo, Japan\n",
    "type: ccc\n",
    "permalink: traveling/locations/tokyo\n",
    "menu: nav/home.html\n",
    "courses: { csa: {week: 0} }\n",
    "---"
   ]
  },
  {
   "cell_type": "markdown",
   "metadata": {},
   "source": [
    "![Tokyo](../../images/locations/tokyo.png)"
   ]
  },
  {
   "cell_type": "markdown",
   "metadata": {},
   "source": [
    "Tokyo, the capital of Japan, is a bustling metropolis that combines traditional Japanese culture with cutting-edge technology. Known for its towering skyscrapers, ancient temples, and world-class cuisine, Tokyo offers a unique blend of modernity and tradition. The city is also a global hub for fashion, entertainment, and business."
   ]
  }
 ],
 "metadata": {
  "language_info": {
   "name": "python"
  },
  "orig_nbformat": 4
 },
 "nbformat": 4,
 "nbformat_minor": 2
}
