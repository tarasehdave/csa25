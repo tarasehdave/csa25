{
 "cells": [
  {
   "cell_type": "markdown",
   "metadata": {},
   "source": [
    "---\n",
    "toc: True\n",
    "comments: True\n",
    "layout: post\n",
    "title: Jerusalem\n",
    "type: ccc\n",
    "permalink: traveling/locations/jerusalem\n",
    "menu: nav/home.html\n",
    "courses: { csa: {week: 0} }\n",
    "---"
   ]
  },
  {
   "cell_type": "markdown",
   "metadata": {},
   "source": [
    "![Jerusalem](../../images/locations/jerusalem.png)"
   ]
  },
  {
   "cell_type": "markdown",
   "metadata": {},
   "source": [
    "Jerusalem is one of the world’s oldest cities, significant to Judaism, Christianity, and Islam. The city is a place of pilgrimage, home to sacred sites such as the Western Wall, the Church of the Holy Sepulchre, and the Al-Aqsa Mosque. Jerusalem’s complex history and spiritual importance make it a unique and revered destination for people of various faiths."
   ]
  }
 ],
 "metadata": {
  "language_info": {
   "name": "python"
  },
  "orig_nbformat": 4
 },
 "nbformat": 4,
 "nbformat_minor": 2
}
