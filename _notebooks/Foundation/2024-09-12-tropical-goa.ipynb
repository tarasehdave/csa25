{
 "cells": [
  {
   "cell_type": "markdown",
   "metadata": {},
   "source": [
    "---\n",
    "toc: True\n",
    "comments: True\n",
    "layout: post\n",
    "title: Goa, India\n",
    "type: ccc\n",
    "permalink: traveling/locations/goa\n",
    "menu: nav/home.html\n",
    "courses: { csa: {week: 0} }\n",
    "---"
   ]
  },
  {
   "cell_type": "markdown",
   "metadata": {},
   "source": [
    "![Goa](../../images/locations/goa.png)"
   ]
  },
  {
   "cell_type": "markdown",
   "metadata": {},
   "source": [
    "Goa is a coastal state in India known for its stunning beaches, vibrant nightlife, and Portuguese colonial architecture. It attracts both domestic and international tourists, offering a blend of Indian and Western cultures. The state is also famous for its spice plantations, seafood cuisine, and annual festivals like Carnival, which showcases its rich heritage. "
   ]
  }
 ],
 "metadata": {
  "language_info": {
   "name": "python"
  },
  "orig_nbformat": 4
 },
 "nbformat": 4,
 "nbformat_minor": 2
}
