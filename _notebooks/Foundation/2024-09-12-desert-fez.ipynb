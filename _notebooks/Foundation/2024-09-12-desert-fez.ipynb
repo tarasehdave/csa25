{
 "cells": [
  {
   "cell_type": "markdown",
   "metadata": {},
   "source": [
    "---\n",
    "toc: True\n",
    "comments: True\n",
    "layout: post\n",
    "title: Fez, Morocco\n",
    "type: ccc\n",
    "permalink: traveling/locations/fez\n",
    "menu: nav/home.html\n",
    "courses: { csa: {week: 0} }\n",
    "---"
   ]
  },
  {
   "cell_type": "markdown",
   "metadata": {},
   "source": [
    "![Fez](../../images/locations/fez.png)"
   ]
  },
  {
   "cell_type": "markdown",
   "metadata": {},
   "source": [
    "Fez, one of Morocco’s most ancient and culturally significant cities, is often considered the spiritual and intellectual heart of the country. Known for its well-preserved medieval architecture, Fez is home to the world’s oldest continuously operating university, the University of Al Quaraouiyine. The city’s labyrinthine medina, a UNESCO World Heritage site, is famous for its vibrant souls, historic madrasas, and the iconic Bou Inania Madrasa. Fez offers a rich tapestry of Moroccan history and tradition, making it a must-visit destination for travelers interested in the country’s heritage."
   ]
  }
 ],
 "metadata": {
  "language_info": {
   "name": "python"
  },
  "orig_nbformat": 4
 },
 "nbformat": 4,
 "nbformat_minor": 2
}
