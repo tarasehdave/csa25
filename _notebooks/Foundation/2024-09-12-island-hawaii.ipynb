{
 "cells": [
  {
   "cell_type": "markdown",
   "metadata": {},
   "source": [
    "---\n",
    "toc: True\n",
    "comments: True\n",
    "layout: post\n",
    "title: Hawaii\n",
    "type: ccc\n",
    "permalink: traveling/locations/hawaii\n",
    "menu: nav/home.html\n",
    "courses: { csa: {week: 0} }\n",
    "---"
   ]
  },
  {
   "cell_type": "markdown",
   "metadata": {},
   "source": [
    "![Hawaii](../../images/locations/hawaii.png)"
   ]
  },
  {
   "cell_type": "markdown",
   "metadata": {},
   "source": [
    "\n",
    "Hawaii, a U.S. state in the Pacific Ocean, is an archipelago known for its diverse landscapes, ranging from lush rainforests to volcanic craters. The islands are celebrated for their unique culture, beautiful beaches, and opportunities for outdoor activities like surfing, hiking, and snorkeling. Honolulu, the state capital, is a vibrant city that offers a blend of urban and natural attractions.\n"
   ]
  }
 ],
 "metadata": {
  "language_info": {
   "name": "python"
  },
  "orig_nbformat": 4
 },
 "nbformat": 4,
 "nbformat_minor": 2
}
