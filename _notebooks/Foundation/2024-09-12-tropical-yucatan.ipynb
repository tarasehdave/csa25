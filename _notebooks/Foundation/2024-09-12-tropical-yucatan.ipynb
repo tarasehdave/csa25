{
 "cells": [
  {
   "cell_type": "markdown",
   "metadata": {},
   "source": [
    "---\n",
    "toc: True\n",
    "comments: True\n",
    "layout: post\n",
    "title: Yucatan, Mexico\n",
    "type: ccc\n",
    "permalink: traveling/locations/yucatan\n",
    "menu: nav/home.html\n",
    "courses: { csa: {week: 0} }\n",
    "---"
   ]
  },
  {
   "cell_type": "markdown",
   "metadata": {},
   "source": [
    "![Yucatan](../../images/locations/yucatan.png)"
   ]
  },
  {
   "cell_type": "markdown",
   "metadata": {},
   "source": [
    "The Yucatan Peninsula in Mexico is renowned for its rich Mayan history, featuring ancient ruins like Chichen Itza and Uxmal. The region is also famous for its cenotes—natural sinkholes perfect for swimming—and its beautiful Caribbean coastline, which includes popular tourist destinations such as Cancun and Tulum."
   ]
  }
 ],
 "metadata": {
  "language_info": {
   "name": "python"
  },
  "orig_nbformat": 4
 },
 "nbformat": 4,
 "nbformat_minor": 2
}
