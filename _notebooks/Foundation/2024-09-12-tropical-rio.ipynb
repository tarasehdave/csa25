{
 "cells": [
  {
   "cell_type": "markdown",
   "metadata": {},
   "source": [
    "---\n",
    "toc: True\n",
    "comments: True\n",
    "layout: post\n",
    "title: Rio de Janeiro, Brazil\n",
    "type: ccc\n",
    "permalink: traveling/locations/rio\n",
    "menu: nav/home.html\n",
    "courses: { csa: {week: 0} }\n",
    "---"
   ]
  },
  {
   "cell_type": "markdown",
   "metadata": {},
   "source": [
    "![Rio de Janeiro](../../images/locations/rio.png)"
   ]
  },
  {
   "cell_type": "markdown",
   "metadata": {},
   "source": [
    "Rio de Janeiro, Brazil’s second-largest city, is famous for its breathtaking landscapes, including the iconic Christ the Redeemer statue, Sugarloaf Mountain, and Copacabana Beach. The city is also known for its vibrant Carnival festival, samba music, and rich cultural heritage, making it one of the most visited cities in the Southern Hemisphere."
   ]
  }
 ],
 "metadata": {
  "language_info": {
   "name": "python"
  },
  "orig_nbformat": 4
 },
 "nbformat": 4,
 "nbformat_minor": 2
}
