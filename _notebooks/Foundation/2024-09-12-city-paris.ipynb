{
 "cells": [
  {
   "cell_type": "markdown",
   "metadata": {},
   "source": [
    "---\n",
    "toc: True\n",
    "comments: True\n",
    "layout: post\n",
    "title: Paris, France\n",
    "type: ccc\n",
    "permalink: traveling/locations/paris\n",
    "menu: nav/home.html\n",
    "courses: { csa: {week: 0} }\n",
    "---"
   ]
  },
  {
   "cell_type": "markdown",
   "metadata": {},
   "source": [
    "![Paris](../../images/locations/paris.png)"
   ]
  },
  {
   "cell_type": "markdown",
   "metadata": {},
   "source": [
    "Paris, the capital of France, is renowned for its art, fashion, and history. Known as \"The City of Light,\" Paris is home to iconic landmarks like the Eiffel Tower, the Louvre Museum, and Notre-Dame Cathedral. The city is also famous for its romantic ambiance, charming cafes, and exquisite cuisine, making it a top destination for travelers worldwide."
   ]
  }
 ],
 "metadata": {
  "language_info": {
   "name": "python"
  },
  "orig_nbformat": 4
 },
 "nbformat": 4,
 "nbformat_minor": 2
}
