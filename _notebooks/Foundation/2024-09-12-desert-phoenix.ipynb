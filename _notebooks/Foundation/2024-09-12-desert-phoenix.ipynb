{
 "cells": [
  {
   "cell_type": "markdown",
   "metadata": {},
   "source": [
    "---\n",
    "toc: True\n",
    "comments: True\n",
    "layout: post\n",
    "title: Phoenix, USA\n",
    "type: ccc\n",
    "permalink: traveling/locations/phoenix\n",
    "menu: nav/home.html\n",
    "courses: { csa: {week: 0} }\n",
    "---"
   ]
  },
  {
   "cell_type": "markdown",
   "metadata": {},
   "source": [
    "![Phoenix](../../images/locations/phoenix.png)"
   ]
  },
  {
   "cell_type": "markdown",
   "metadata": {},
   "source": [
    "Phoenix, the capital of Arizona, is known for its scorching desert climate and sprawling urban landscape. The city offers a mix of modern amenities and outdoor activities, with nearby attractions such as the Grand Canyon, Sedona’s red rocks, and a growing arts and cultural scene. Phoenix is also a hub for technology and innovation in the southwestern United States."
   ]
  }
 ],
 "metadata": {
  "language_info": {
   "name": "python"
  },
  "orig_nbformat": 4
 },
 "nbformat": 4,
 "nbformat_minor": 2
}
