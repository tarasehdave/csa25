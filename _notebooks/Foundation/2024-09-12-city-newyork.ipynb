{
 "cells": [
  {
   "cell_type": "markdown",
   "metadata": {},
   "source": [
    "---\n",
    "toc: True\n",
    "comments: True\n",
    "layout: post\n",
    "title: New York, USA\n",
    "type: ccc\n",
    "permalink: traveling/locations/newyork\n",
    "menu: nav/home.html\n",
    "courses: { csa: {week: 0} }\n",
    "---"
   ]
  },
  {
   "cell_type": "markdown",
   "metadata": {},
   "source": [
    "![New York](../../images/locations/newyork.png)"
   ]
  },
  {
   "cell_type": "markdown",
   "metadata": {},
   "source": [
    "New York City, often referred to as \"The Big Apple,\" is a global metropolis known for its iconic landmarks such as the Statue of Liberty, Times Square, and Central Park. As a cultural and financial hub, NYC is famous for its diverse neighborhoods, Broadway theaters, world-class museums, and vibrant arts scene."
   ]
  }
 ],
 "metadata": {
  "language_info": {
   "name": "python"
  },
  "orig_nbformat": 4
 },
 "nbformat": 4,
 "nbformat_minor": 2
}
