{
 "cells": [
  {
   "cell_type": "markdown",
   "metadata": {},
   "source": [
    "---\n",
    "toc: True\n",
    "comments: True\n",
    "layout: post\n",
    "title: Shanghai, China\n",
    "type: ccc\n",
    "permalink: traveling/locations/shanghai\n",
    "menu: nav/home.html\n",
    "courses: { csa: {week: 0} }\n",
    "---"
   ]
  },
  {
   "cell_type": "markdown",
   "metadata": {},
   "source": [
    "![Shanghai](../../images/locations/shanghai.png)"
   ]
  },
  {
   "cell_type": "markdown",
   "metadata": {},
   "source": [
    "Shanghai is China’s largest city and a global financial center, known for its futuristic skyline, colonial architecture, and vibrant culture. The city offers a mix of old and new, with landmarks like the Bund, Yu Garden, and the modern Lujiazui district. Shanghai is also a major center for commerce, trade, and innovation in Asia."
   ]
  }
 ],
 "metadata": {
  "language_info": {
   "name": "python"
  },
  "orig_nbformat": 4
 },
 "nbformat": 4,
 "nbformat_minor": 2
}
