{
 "cells": [
  {
   "cell_type": "markdown",
   "metadata": {},
   "source": [
    "---\n",
    "toc: True\n",
    "comments: True\n",
    "layout: post\n",
    "title: Santorini, Greece\n",
    "type: ccc\n",
    "permalink: traveling/locations/santorini\n",
    "menu: nav/home.html\n",
    "courses: { csa: {week: 0} }\n",
    "---"
   ]
  },
  {
   "cell_type": "markdown",
   "metadata": {},
   "source": [
    "![Santorini](../../images/locations/santorini.png)"
   ]
  },
  {
   "cell_type": "markdown",
   "metadata": {},
   "source": [
    "Santorini, a volcanic island in Greece, is famous for its stunning sunsets, white-washed buildings, and blue-domed churches overlooking the Aegean Sea. The island’s dramatic cliffs and picturesque towns like Oia and Fira make it a popular destination for romantic getaways and photography enthusiasts."
   ]
  }
 ],
 "metadata": {
  "language_info": {
   "name": "python"
  },
  "orig_nbformat": 4
 },
 "nbformat": 4,
 "nbformat_minor": 2
}
