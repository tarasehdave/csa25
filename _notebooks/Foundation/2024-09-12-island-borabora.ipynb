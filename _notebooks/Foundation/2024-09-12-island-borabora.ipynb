{
 "cells": [
  {
   "cell_type": "markdown",
   "metadata": {},
   "source": [
    "---\n",
    "toc: True\n",
    "comments: True\n",
    "layout: post\n",
    "title: Bora Bora\n",
    "type: ccc\n",
    "permalink: traveling/locations/borabora\n",
    "menu: nav/home.html\n",
    "courses: { csa: {week: 0} }\n",
    "---"
   ]
  },
  {
   "cell_type": "markdown",
   "metadata": {},
   "source": [
    "![Bora Bora](../../images/locations/borabora.png)"
   ]
  },
  {
   "cell_type": "markdown",
   "metadata": {},
   "source": [
    "Bora Bora, located in French Polynesia, is a small island known for its stunning beauty, featuring crystal-clear waters, overwater bungalows, and vibrant coral reefs. Often referred to as a tropical paradise, it’s a popular destination for honeymooners and those seeking luxury in a serene and picturesque setting."
   ]
  }
 ],
 "metadata": {
  "language_info": {
   "name": "python"
  },
  "orig_nbformat": 4
 },
 "nbformat": 4,
 "nbformat_minor": 2
}
