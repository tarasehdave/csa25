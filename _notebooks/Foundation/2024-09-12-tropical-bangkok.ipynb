{
 "cells": [
  {
   "cell_type": "markdown",
   "metadata": {},
   "source": [
    "---\n",
    "toc: True\n",
    "comments: True\n",
    "layout: post\n",
    "title: Bangkok, Thailand\n",
    "type: ccc\n",
    "permalink: traveling/locations/bangkok\n",
    "menu: nav/home.html\n",
    "courses: { csa: {week: 0} }\n",
    "---"
   ]
  },
  {
   "cell_type": "markdown",
   "metadata": {},
   "source": [
    "![Bangkok](../../images/locations/bangkok.png)"
   ]
  },
  {
   "cell_type": "markdown",
   "metadata": {},
   "source": [
    "Bangkok, the capital of Thailand, is a bustling metropolis known for its vibrant street life, ornate temples, and cultural landmarks such as the Grand Palace and Wat Pho. The city offers a mix of modernity and tradition, with towering skyscrapers, bustling markets, and a thriving culinary scene that draws food lovers from around the world."
   ]
  }
 ],
 "metadata": {
  "language_info": {
   "name": "python"
  },
  "orig_nbformat": 4
 },
 "nbformat": 4,
 "nbformat_minor": 2
}
