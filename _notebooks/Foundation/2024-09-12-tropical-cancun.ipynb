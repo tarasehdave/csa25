{
 "cells": [
  {
   "cell_type": "markdown",
   "metadata": {},
   "source": [
    "---\n",
    "toc: True\n",
    "comments: True\n",
    "layout: post\n",
    "title: Cancun, Mexico\n",
    "type: ccc\n",
    "permalink: traveling/locations/cancun\n",
    "menu: nav/home.html\n",
    "courses: { csa: {week: 0} }\n",
    "---"
   ]
  },
  {
   "cell_type": "markdown",
   "metadata": {},
   "source": [
    "![Cancun](../../images/locations/cancun.png)"
   ]
  },
  {
   "cell_type": "markdown",
   "metadata": {},
   "source": [
    "Cancun, located on the Yucatán Peninsula in Mexico, is a premier tourist destination famous for its beautiful white-sand beaches, crystal-clear turquoise waters, and lively nightlife. Known for its all-inclusive resorts, Cancun is also a gateway to the Mayan ruins, offering visitors a mix of luxury and historical exploration."
   ]
  }
 ],
 "metadata": {
  "language_info": {
   "name": "python"
  },
  "orig_nbformat": 4
 },
 "nbformat": 4,
 "nbformat_minor": 2
}
