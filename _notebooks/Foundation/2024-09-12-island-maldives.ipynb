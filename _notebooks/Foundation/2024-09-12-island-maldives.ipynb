{
 "cells": [
  {
   "cell_type": "markdown",
   "metadata": {},
   "source": [
    "---\n",
    "toc: True\n",
    "comments: True\n",
    "layout: post\n",
    "title: Maldives\n",
    "type: ccc\n",
    "permalink: traveling/locations/maldives\n",
    "menu: nav/home.html\n",
    "courses: { csa: {week: 0} }\n",
    "---"
   ]
  },
  {
   "cell_type": "markdown",
   "metadata": {},
   "source": [
    "![Maldives](../../images/locations/maldives.png)"
   ]
  },
  {
   "cell_type": "markdown",
   "metadata": {},
   "source": [
    "\n",
    "The Maldives is a tropical paradise in the Indian Ocean, known for its crystal-clear waters, coral reefs, and luxurious overwater resorts. Comprising over 1,000 coral islands, the Maldives is a sought-after destination for honeymooners and divers, offering unparalleled natural beauty and tranquility."
   ]
  }
 ],
 "metadata": {
  "language_info": {
   "name": "python"
  },
  "orig_nbformat": 4
 },
 "nbformat": 4,
 "nbformat_minor": 2
}
