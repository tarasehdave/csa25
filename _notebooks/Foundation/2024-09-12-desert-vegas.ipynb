{
 "cells": [
  {
   "cell_type": "markdown",
   "metadata": {},
   "source": [
    "---\n",
    "toc: True\n",
    "comments: True\n",
    "layout: post\n",
    "title: Las Vegas, USA\n",
    "type: ccc\n",
    "permalink: traveling/locations/vegas\n",
    "menu: nav/home.html\n",
    "courses: { csa: {week: 0} }\n",
    "---"
   ]
  },
  {
   "cell_type": "markdown",
   "metadata": {},
   "source": [
    "![Las Vegas](../../images/locations/vegas.png)"
   ]
  },
  {
   "cell_type": "markdown",
   "metadata": {},
   "source": [
    "Las Vegas, located in the Mojave Desert of Nevada, is a city known for its vibrant nightlife, casinos, and entertainment shows. Often referred to as \"Sin City,\" Las Vegas offers a unique blend of luxury, excess, and excitement, attracting millions of visitors each year who come to experience its themed resorts and famous Strip."
   ]
  }
 ],
 "metadata": {
  "language_info": {
   "name": "python"
  },
  "orig_nbformat": 4
 },
 "nbformat": 4,
 "nbformat_minor": 2
}
