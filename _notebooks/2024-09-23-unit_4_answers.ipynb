{
 "cells": [
  {
   "cell_type": "markdown",
   "metadata": {},
   "source": [
    "## Unit 4 Iterations\n"
   ]
  },
  {
   "cell_type": "markdown",
   "metadata": {},
   "source": [
    "#### Fun While Loop Hack:\n",
    "find and fix the missing increment in the while loop"
   ]
  },
  {
   "cell_type": "code",
   "execution_count": null,
   "metadata": {
    "vscode": {
     "languageId": "java"
    }
   },
   "outputs": [],
   "source": [
    "int i = 0;\n",
    "while (i < 5) {\n",
    "    System.out.println(i);\n",
    "    i++; \n",
    "}\n"
   ]
  },
  {
   "cell_type": "markdown",
   "metadata": {},
   "source": [
    "#### Fun For Loop Hack:\n",
    "Create a program that iterates through a list of numbers (int_list = {0, 4, 51, 83, 92, 10, 123, 145}) using both a for loop and a for each loop, then split the numbers in the list into even/odd lists, and output them."
   ]
  },
  {
   "cell_type": "code",
   "execution_count": null,
   "metadata": {
    "vscode": {
     "languageId": "java"
    }
   },
   "outputs": [],
   "source": [
    "import java.util.ArrayList;\n",
    "import java.util.List;\n",
    "\n",
    "public class NumberSplitter {\n",
    "    public static void main(String[] args) {\n",
    "        int[] int_list = {0, 4, 51, 83, 92, 10, 123, 145};\n",
    "\n",
    "        List<Integer> evenNumbers = new ArrayList<>();\n",
    "        List<Integer> oddNumbers = new ArrayList<>();\n",
    "\n",
    "        System.out.println(\"For loop iteration:\");\n",
    "        for (int i = 0; i < int_list.length; i++) {\n",
    "            System.out.println(int_list[i]);\n",
    "            if (int_list[i] % 2 == 0) {\n",
    "                evenNumbers.add(int_list[i]);\n",
    "            } else {\n",
    "                oddNumbers.add(int_list[i]);\n",
    "            }\n",
    "        }\n",
    "\n",
    "        evenNumbers.clear();\n",
    "        oddNumbers.clear();\n",
    "\n",
    "        System.out.println(\"\\nFor-each loop iteration:\");\n",
    "        for (int num : int_list) {\n",
    "            System.out.println(num);\n",
    "            if (num % 2 == 0) {\n",
    "                evenNumbers.add(num);\n",
    "            } else {\n",
    "                oddNumbers.add(num);\n",
    "            }\n",
    "        }\n",
    "\n",
    "        System.out.println(\"\\nEven numbers: \" + evenNumbers);\n",
    "        System.out.println(\"Odd numbers: \" + oddNumbers);\n",
    "    }\n",
    "}\n"
   ]
  },
  {
   "cell_type": "markdown",
   "metadata": {},
   "source": [
    "#### Popcorn Hack:\n",
    "Iterate through the characters a string with a while loop\n",
    "\n"
   ]
  },
  {
   "cell_type": "code",
   "execution_count": null,
   "metadata": {
    "vscode": {
     "languageId": "java"
    }
   },
   "outputs": [],
   "source": [
    "let str = \"example\";\n",
    "let i = 0;\n",
    "let length = str.length;\n",
    "\n",
    "while (i < length) {\n",
    "  console.log(str[i]);\n",
    "  i++;\n",
    "}\n"
   ]
  },
  {
   "cell_type": "markdown",
   "metadata": {},
   "source": [
    "#### Homework Hack!\n",
    "code a caesar cipher that will encrypt any string with any key provided.\n",
    "your code should go into the encrypt() method, and should successfully pass the test cases provided\n",
    "as a bonus, try to use StringBuilder\n",
    "\n"
   ]
  },
  {
   "cell_type": "code",
   "execution_count": null,
   "metadata": {
    "vscode": {
     "languageId": "java"
    }
   },
   "outputs": [],
   "source": [
    "public class CaesarCipher {\n",
    "    private int key;\n",
    "    private String phrase;\n",
    "\n",
    "    public CaesarCipher(int key, String phrase) {\n",
    "        this.key = key;\n",
    "        this.phrase = phrase;\n",
    "    }\n",
    "\n",
    "    public String encrypt() {\n",
    "        StringBuilder encryptedPhrase = new StringBuilder();\n",
    "        \n",
    "        for (int i = 0; i < phrase.length(); i++) {\n",
    "            char currentChar = phrase.charAt(i);\n",
    "            if (Character.isLetter(currentChar)) {\n",
    "                char base = Character.isLowerCase(currentChar) ? 'a' : 'A';\n",
    "                int shifted = (currentChar - base + key) % 26 + base;\n",
    "                encryptedPhrase.append((char) shifted);\n",
    "            } else {\n",
    "                encryptedPhrase.append(currentChar);\n",
    "            }\n",
    "        }\n",
    "        \n",
    "        return encryptedPhrase.toString();\n",
    "    }\n",
    "\n",
    "    public static void main(String[] args) {\n",
    "        CaesarCipher test1 = new CaesarCipher(3, \"hello world\");\n",
    "        CaesarCipher test2 = new CaesarCipher(10, \"abcdefg\");\n",
    "        CaesarCipher test3 = new CaesarCipher(20, \"i love csa\");\n",
    "\n",
    "        System.out.println(\"test 1: \" + test1.encrypt()); // \"khoor zruog\"\n",
    "        System.out.println(\"test 2: \" + test2.encrypt()); // \"klmnopq\"\n",
    "        System.out.println(\"test 3: \" + test3.encrypt()); // \"i vexk uqe\"\n",
    "    }\n",
    "}\n"
   ]
  },
  {
   "cell_type": "markdown",
   "metadata": {},
   "source": [
    "#### What is wrong with this code cell(Hack)\n"
   ]
  },
  {
   "cell_type": "code",
   "execution_count": null,
   "metadata": {
    "vscode": {
     "languageId": "java"
    }
   },
   "outputs": [],
   "source": [
    "//Hint: Check the Syntax and look at the equals to signs on the example above\n",
    "\n",
    "import java.util.Scanner;\n",
    "Scanner scanner = new Scanner(System.in);\n",
    "System.out.print(\"Enter the number of rows: \");\n",
    "int rows = scanner.nextInt();\n",
    "for (int i = rows; i>1; i-) {\n",
    "    for (int j = 1; j <= i; j++) {\n",
    "        System.out.print(j + \" \");\n",
    "    }\n",
    "    System.out.println();\n",
    "    }\n",
    "        \n",
    "scanner.close();\n",
    "    "
   ]
  },
  {
   "cell_type": "markdown",
   "metadata": {},
   "source": [
    "The main issues in the code are the incorrect decrement operator in the outer loop (`i-` should be `i--`) and the loop condition that should include `1` (`i >= 1` instead of `i > 1`). Additionally, the code should be placed inside a class and a main method to run properly in Java."
   ]
  },
  {
   "cell_type": "markdown",
   "metadata": {},
   "source": [
    "two picture mc here"
   ]
  },
  {
   "cell_type": "markdown",
   "metadata": {},
   "source": [
    "### HW Quiz"
   ]
  },
  {
   "cell_type": "markdown",
   "metadata": {},
   "source": [
    "1. Question 1: What does the following code print?\n",
    "\n",
    "A. 5 6 7 8 9\n",
    "\n",
    "B. 4 5 6 7 8 9 10 11 12\n",
    "\n",
    "C. 3 5 7 9 11\n",
    "\n",
    "_D. 3 4 5 6 7 8 9 10 11 12_\n",
    "\n"
   ]
  },
  {
   "cell_type": "code",
   "execution_count": null,
   "metadata": {
    "vscode": {
     "languageId": "java"
    }
   },
   "outputs": [],
   "source": [
    "for (int i = 3; i <= 12; i++) {\n",
    "    System.out.print(i + \" \");\n",
    " }"
   ]
  },
  {
   "cell_type": "markdown",
   "metadata": {},
   "source": [
    "_The code prints the integers from 3 to 12, inclusive, resulting in the output \"3 4 5 6 7 8 9 10 11 12.\" This is achieved through a for loop that starts at 3 and increments i until it reaches 12._"
   ]
  },
  {
   "cell_type": "markdown",
   "metadata": {},
   "source": [
    "Question 2:\n",
    "How many times does the following method print a “*” ?\n",
    "\n",
    "A. 9\n",
    "\n",
    "B. 7\n",
    "\n",
    "_C. 8_\n",
    "\n",
    "D. 6"
   ]
  },
  {
   "cell_type": "code",
   "execution_count": null,
   "metadata": {
    "vscode": {
     "languageId": "java"
    }
   },
   "outputs": [],
   "source": [
    "for (int i = 3; i < 11; i++) {\n",
    "    System.out.print(\"*\");\n",
    " }"
   ]
  },
  {
   "cell_type": "markdown",
   "metadata": {},
   "source": [
    "_The method prints i from 3 to 11, but does not include 11 since it states that i can not be greater than or equal to 11, only less than."
   ]
  },
  {
   "cell_type": "markdown",
   "metadata": {},
   "source": [
    "Question 3:\n",
    "What does the following code print?\n",
    "\n",
    "A. -4 -3 -2 -1 0\n",
    "\n",
    "B. -5 -4 -3 -2 -1\n",
    "\n",
    "C. 5 4 3 2 1"
   ]
  },
  {
   "cell_type": "code",
   "execution_count": null,
   "metadata": {
    "vscode": {
     "languageId": "java"
    }
   },
   "outputs": [],
   "source": [
    "int x = -5;\n",
    "while (x < 0)\n",
    "{\n",
    "   x++;\n",
    "   System.out.print(x + \" \");\n",
    "}"
   ]
  },
  {
   "cell_type": "markdown",
   "metadata": {},
   "source": [
    "The code initializes x to -5 and increments it until it reaches 0, printing each incremented value. As a result, the output includes the values -4, -3, -2, -1, and finally 0, giving the final output of \"-4 -3 -2 -1 0\".\n",
    "\n",
    "\n",
    "\n",
    "\n",
    "\n",
    "\n"
   ]
  },
  {
   "cell_type": "markdown",
   "metadata": {},
   "source": [
    "Question 4:\n",
    "What does the following code print?\n",
    "\n",
    "A. 20\n",
    "\n",
    "B. 21\n",
    "\n",
    "C. 25\n",
    "\n",
    "D. 30"
   ]
  },
  {
   "cell_type": "code",
   "execution_count": null,
   "metadata": {
    "vscode": {
     "languageId": "java"
    }
   },
   "outputs": [],
   "source": [
    "int sum = 0;\n",
    "\n",
    "for (int i = 1; i <= 5; i++) {\n",
    "    if (i % 2 == 0) {\n",
    "        sum += i * 2;\n",
    "    } else {\n",
    "        sum += i;\n",
    "    }\n",
    "}\n",
    "\n",
    "System.out.println(sum);"
   ]
  },
  {
   "cell_type": "markdown",
   "metadata": {},
   "source": [
    "The code calculates a sum based on the values from 1 to 5, adding each odd number directly and each even number multiplied by 2, resulting in a final sum of 21. The breakdown of the sum is: 1 + 4 + 3 + 8 + 5 = 21\n",
    " "
   ]
  },
  {
   "cell_type": "markdown",
   "metadata": {},
   "source": [
    "### Easy Hack\n",
    "- Use a while loop to find the numbers from 1-50 that are divisible by 3 or 5, then store them into a list (make sure to print it out at the end)\n",
    "- Use a for loop to do the same thing detailed above"
   ]
  },
  {
   "cell_type": "code",
   "execution_count": null,
   "metadata": {
    "vscode": {
     "languageId": "java"
    }
   },
   "outputs": [],
   "source": [
    "import java.util.ArrayList;\n",
    "import java.util.List;\n",
    "\n",
    "public class DivisibleBy3or5 {\n",
    "    public static void main(String[] args) {\n",
    "        List<Integer> divisibleNumbers = new ArrayList<>();\n",
    "        int i = 1;\n",
    "        while (i <= 50) {\n",
    "            if (i % 3 == 0 || i % 5 == 0) {\n",
    "                divisibleNumbers.add(i);\n",
    "            }\n",
    "            i++;\n",
    "        }\n",
    "        System.out.println(divisibleNumbers);\n",
    "    }\n",
    "}\n"
   ]
  },
  {
   "cell_type": "code",
   "execution_count": null,
   "metadata": {
    "vscode": {
     "languageId": "java"
    }
   },
   "outputs": [],
   "source": [
    "import java.util.ArrayList;\n",
    "import java.util.List;\n",
    "\n",
    "public class DivisibleBy3or5 {\n",
    "    public static void main(String[] args) {\n",
    "        List<Integer> divisibleNumbers = new ArrayList<>();\n",
    "        for (int i = 1; i <= 50; i++) {\n",
    "            if (i % 3 == 0 || i % 5 == 0) {\n",
    "                divisibleNumbers.add(i);\n",
    "            }\n",
    "        }\n",
    "        System.out.println(divisibleNumbers);\n",
    "    }\n",
    "}\n"
   ]
  },
  {
   "cell_type": "markdown",
   "metadata": {},
   "source": [
    "### Harder Hack\n",
    "- Palindromes are numbers that have the same value when reversed (ex: “123321” or “323”).\n",
    "- Create a program that uses a while loop that outputs all palindromes in any given list.\n",
    "\n",
    "Sample Input: test_list = [5672, 235, 5537, 6032, 317, 8460, 1672, 8104, 7770, 4442, 913, 2508, 1116, 9969, 9091, 522, 8756, 9527, 7968, 1520, 4444, 515, 2882, 6556, 595]\n",
    "\n",
    "Sample Output: 4444, 515, 2882, 6556, 595"
   ]
  },
  {
   "cell_type": "code",
   "execution_count": null,
   "metadata": {
    "vscode": {
     "languageId": "java"
    }
   },
   "outputs": [],
   "source": [
    "import java.util.List;\n",
    "\n",
    "public class PalindromeFinder {\n",
    "    public static void main(String[] args) {\n",
    "        List<Integer> testList = List.of(5672, 235, 5537, 6032, 317, 8460, 1672, 8104, 7770, 4442, 913, 2508, 1116, 9969, 9091, 522, 8756, 9527, 7968, 1520, 4444, 515, 2882, 6556, 595);\n",
    "        \n",
    "        int index = 0;\n",
    "        while (index < testList.size()) {\n",
    "            int number = testList.get(index);\n",
    "            if (isPalindrome(number)) {\n",
    "                System.out.print(number + \" \");\n",
    "            }\n",
    "            index++;\n",
    "        }\n",
    "    }\n",
    "\n",
    "    public static boolean isPalindrome(int number) {\n",
    "        String str = String.valueOf(number);\n",
    "        String reversedStr = new StringBuilder(str).reverse().toString();\n",
    "        return str.equals(reversedStr);\n",
    "    }\n",
    "}\n"
   ]
  }
 ],
 "metadata": {
  "kernelspec": {
   "display_name": "Python 3 (ipykernel)",
   "language": "python",
   "name": "python3"
  },
  "language_info": {
   "codemirror_mode": {
    "name": "ipython",
    "version": 3
   },
   "file_extension": ".py",
   "mimetype": "text/x-python",
   "name": "python",
   "nbconvert_exporter": "python",
   "pygments_lexer": "ipython3",
   "version": "3.11.9"
  }
 },
 "nbformat": 4,
 "nbformat_minor": 4
}
