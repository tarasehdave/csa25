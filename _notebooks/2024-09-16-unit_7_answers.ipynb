{
 "cells": [
  {
   "cell_type": "markdown",
   "metadata": {},
   "source": [
    "## Unit 7\n",
    "\n"
   ]
  },
  {
   "cell_type": "markdown",
   "metadata": {},
   "source": [
    "### POPCORN HACKS 7.1 & 7.2 Create an ArrayList of Strings with the following elements: “Apple”, “Banana”, “Cherry”, “Date”, “Elderberry”. Complete the following tasks using the ArrayList methods you’ve learned:\n",
    "\n"
   ]
  },
  {
   "cell_type": "markdown",
   "metadata": {},
   "source": [
    "1. Print the size of the ArrayList.\n",
    "2. Add a new element “Fig” to the end of the list.\n",
    "3. Insert “Grape” at index 2.\n",
    "4. Replace the element at index 4 with “Guava”.\n",
    "5. Remove the element at index 1.\n",
    "6. Retrieve and print the element at index 3.\n",
    "\n",
    "At the end of each task, print the current state of the ArrayList to verify the result."
   ]
  },
  {
   "cell_type": "code",
   "execution_count": null,
   "metadata": {
    "vscode": {
     "languageId": "java"
    }
   },
   "outputs": [],
   "source": [
    "import java.util.ArrayList;\n",
    "\n",
    "public class Main {\n",
    "        ArrayList<String> fruits = new ArrayList<>();\n",
    "        fruits.add(\"Apple\");\n",
    "        fruits.add(\"Banana\");\n",
    "        fruits.add(\"Cherry\");\n",
    "        fruits.add(\"Date\");\n",
    "        fruits.add(\"Elderberry\");\n",
    "        \n",
    "        System.out.println(\"Task 1: Size of the ArrayList: \" + fruits.size());\n",
    "        System.out.println(fruits); \n",
    "\n",
    "        fruits.add(\"Fig\");\n",
    "        System.out.println(\"\\nTask 2: Added 'Fig' to the end of the list\");\n",
    "        System.out.println(fruits);\n",
    "\n",
    "        fruits.add(2, \"Grape\");\n",
    "        System.out.println(\"\\nTask 3: Inserted 'Grape' at index 2\");\n",
    "        System.out.println(fruits);\n",
    "\n",
    "        fruits.set(4, \"Guava\");\n",
    "        System.out.println(\"\\nTask 4: Replaced element at index 4 with 'Guava'\");\n",
    "        System.out.println(fruits);\n",
    "\n",
    "        fruits.remove(1);\n",
    "        System.out.println(\"\\nTask 5: Removed element at index 1\");\n",
    "        System.out.println(fruits);\n",
    "\n",
    "        String elementAtIndex3 = fruits.get(3);\n",
    "        System.out.println(\"\\nTask 6: Element at index 3: \" + elementAtIndex3);\n",
    "        System.out.println(fruits);\n",
    "    }\n",
    "}\n"
   ]
  },
  {
   "cell_type": "markdown",
   "metadata": {},
   "source": [
    "Output:\n",
    "- Task 1: Size of the ArrayList: 5\n",
    "- Task 2: Added 'Fig' to the end of the list[Apple, Banana, Cherry, Date, Elderberry, Fig]\n",
    "- Task 3: Inserted 'Grape' at index 2[Apple, Banana, Grape, Cherry, Date, Elderberry, Fig]\n",
    "- Task 4: Replaced element at index 4 with 'Guava'[Apple, Banana, Grape, Cherry, Guava, Elderberry, Fig]\n",
    "- Task 5: Removed element at index 1[Apple, Grape, Cherry, Guava, Elderberry, Fig]\n",
    "- Task 6: Element at index 3: Guava[Apple, Grape, Cherry, Guava, Elderberry, Fig]"
   ]
  },
  {
   "cell_type": "code",
   "execution_count": null,
   "metadata": {
    "vscode": {
     "languageId": "java"
    }
   },
   "outputs": [],
   "source": [
    "List<Integer> list1 = new ArrayList<Integer>();\n",
    "list1.add(new Integer(1));\n",
    "list1.add(new Integer(2));\n",
    "list1.add(new Integer(3));\n",
    "list1.remove(1);"
   ]
  },
  {
   "cell_type": "markdown",
   "metadata": {},
   "source": [
    "A. [2, 3]\n",
    "\n",
    "B. [1, 2, 3]\n",
    "\n",
    "C. [1, 2]\n",
    "\n",
    "_D. [1, 3]_"
   ]
  },
  {
   "cell_type": "code",
   "execution_count": null,
   "metadata": {
    "vscode": {
     "languageId": "java"
    }
   },
   "outputs": [],
   "source": [
    "List<Integer> numList = new ArrayList<Integer>();\n",
    "numList.add(new Integer(1));\n",
    "numList.add(new Integer(2));\n",
    "numList.add(new Integer(3));\n",
    "numList.set(2,new Integer(4));\n",
    "numList.add(1, new Integer(5));\n",
    "numList.add(new Integer(6));"
   ]
  },
  {
   "cell_type": "markdown",
   "metadata": {},
   "source": [
    "A. [1, 2, 3, 4, 5]\n",
    "\n",
    "B. [1, 2, 4, 5, 6]\n",
    "\n",
    "C. [1, 2, 5, 4, 6]\n",
    "\n",
    "_D. [1, 5, 2, 4, 6]_"
   ]
  },
  {
   "cell_type": "markdown",
   "metadata": {},
   "source": [
    "popcorn mc hacks "
   ]
  },
  {
   "cell_type": "markdown",
   "metadata": {},
   "source": [
    "### Finish the code below so that it uses the findSum() method and it finds the sum of the numbers.\n",
    "\n"
   ]
  },
  {
   "cell_type": "code",
   "execution_count": null,
   "metadata": {
    "vscode": {
     "languageId": "java"
    }
   },
   "outputs": [],
   "source": [
    "import java.util.ArrayList;\n",
    "\n",
    "public class ArrayListHacks \n",
    "    private int findSum(ArrayList<Integer> values) {\n",
    "        int sum = 0;\n",
    "        for (int value : values) {\n",
    "            sum += value;  \n",
    "        return sum;\n",
    "    }\n",
    "\n",
    "    public static void main(String[] args) {\n",
    "        ArrayList<Integer> nums = new ArrayList<>();\n",
    "        nums.add(0);\n",
    "        nums.add(1);\n",
    "        nums.add(2);\n",
    "        nums.add(3);\n",
    "        nums.add(5);\n",
    "        nums.add(8);\n",
    "\n",
    "        ArrayListHacks hacks = new ArrayListHacks();\n",
    "        int result = hacks.findSum(nums);  \n",
    "        System.out.println(\"The sum of the numbers is: \" + result);  \n",
    "    }\n",
    "}\n",
    "\n",
    "ArrayListHacks.main(null);\n"
   ]
  },
  {
   "cell_type": "markdown",
   "metadata": {},
   "source": [
    "#### Problem: Sort the Ducks!\n",
    "#### You have a list of ducks, and each duck has a name and weight. Your task is to sort these ducks by weight in ascending order.\n",
    "\n",
    "#### Choose either Selection Sort or Insertion Sort to do the sorting."
   ]
  },
  {
   "cell_type": "code",
   "execution_count": null,
   "metadata": {
    "vscode": {
     "languageId": "java"
    }
   },
   "outputs": [],
   "source": [
    "import java.util.ArrayList;\n",
    "\n",
    "class DebugDuck implements Comparable<DebugDuck> {\n",
    "    String name;\n",
    "    double weight;\n",
    "\n",
    "    public DebugDuck(String name, double weight) {\n",
    "        this.name = name;\n",
    "        this.weight = weight;\n",
    "    }\n",
    "\n",
    "    @Override\n",
    "    public int compareTo(DebugDuck other) {\n",
    "        return Double.compare(this.weight, other.weight);\n",
    "    }\n",
    "\n",
    "    @Override\n",
    "    public String toString() {\n",
    "        return name + \" (\" + weight + \" kg)\";\n",
    "    }\n",
    "}\n",
    "\n",
    "public class DuckSorter {\n",
    "\n",
    "    public static void selectionSort(ArrayList<DebugDuck> ducks) {\n",
    "        int n = ducks.size();\n",
    "        \n",
    "        for (int i = 0; i < n - 1; i++) {\n",
    "            int minIndex = i;\n",
    "            for (int j = i + 1; j < n; j++) {\n",
    "                if (ducks.get(j).compareTo(ducks.get(minIndex)) < 0) {\n",
    "                    minIndex = j;\n",
    "                }\n",
    "            }\n",
    "\n",
    "            DebugDuck temp = ducks.get(i);\n",
    "            ducks.set(i, ducks.get(minIndex));\n",
    "            ducks.set(minIndex, temp);\n",
    "        }\n",
    "    }\n",
    "\n",
    "    public static void main(String[] args) {\n",
    "        ArrayList<DebugDuck> ducks = new ArrayList<>();\n",
    "        ducks.add(new DebugDuck(\"Duck A\", 4.5));\n",
    "        ducks.add(new DebugDuck(\"Duck B\", 2.1));\n",
    "        ducks.add(new DebugDuck(\"Duck C\", 5.0));\n",
    "        ducks.add(new DebugDuck(\"Duck D\", 1.9));\n",
    "\n",
    "        System.out.println(\"Original list of ducks:\");\n",
    "        for (DebugDuck duck : ducks) {\n",
    "            System.out.println(duck);\n",
    "        }\n",
    "\n",
    "        selectionSort(ducks);\n",
    "\n",
    "        System.out.println(\"\\nSorted list of ducks:\");\n",
    "        for (DebugDuck duck : ducks) {\n",
    "            System.out.println(duck);\n",
    "        }\n",
    "    }\n",
    "}\n"
   ]
  },
  {
   "cell_type": "markdown",
   "metadata": {},
   "source": [
    "#### What can be used in place of the blank to ensure the users data is cleared?\n",
    "\n"
   ]
  },
  {
   "cell_type": "code",
   "execution_count": null,
   "metadata": {
    "vscode": {
     "languageId": "java"
    }
   },
   "outputs": [],
   "source": [
    "ArrayList<String> userData = new ArrayList<>();\n",
    "userData.add(\"John Doe\");\n",
    "userData.add(\"john@example.com\");\n",
    "\n",
    "userData.clear();  \n",
    "userData = null;   \n"
   ]
  },
  {
   "cell_type": "markdown",
   "metadata": {},
   "source": [
    "Students will create, manipulate, and sort an ArrayList of integers.\n",
    "\n",
    "Activity Outline:\n",
    "1. Create an ArrayList:\n",
    "- Task: Create an ArrayList of integers and add 5 elements of your choice.\n",
    "- Hint: Use the ArrayList class and the .add() method to add elements.\n",
    "2. Modify an Element:\n",
    "- Task: Change the second element (index 1) of the ArrayList to a new value (e.g., 100).\n",
    "- Hint: The .set() method allows you to update an element at a specific index.\n",
    "3. Remove an Element:\n",
    "- Task: Remove the third element (index 2) from the ArrayList.\n",
    "- Hint: Use the .remove() method to delete an element by its index.\n",
    "4. Search for an Element:\n",
    "- Task: Check if a specific number (e.g., 30) is in the ArrayList and print a message based on whether it is found or not.\n",
    "- Hint: The .contains() method can be used to check for the presence of an element.\n",
    "5. Loop Through the ArrayList:\n",
    "- Task: Use a for loop to print each element of the ArrayList.\n",
    "- Hint: You can use a traditional for loop or an enhanced for loop (for-each) to iterate through the elements.\n",
    "6. Sort the ArrayList:\n",
    "- Task: Sort the ArrayList in ascending order.\n",
    "- Hint: Use Collections.sort() to sort the ArrayList.\n",
    "7. Print the Sorted ArrayList:\n",
    "- Task: Print the sorted ArrayList to see the updated order of the elements.\n",
    "- Hint: Use System.out.println() to print the sorted list."
   ]
  },
  {
   "cell_type": "code",
   "execution_count": null,
   "metadata": {
    "vscode": {
     "languageId": "java"
    }
   },
   "outputs": [],
   "source": [
    "import java.util.ArrayList;\n",
    "import java.util.Collections;\n",
    "\n",
    "public class ArrayListActivity {\n",
    "    public static void main(String[] args) {\n",
    "        // 1. Create an ArrayList and add 5 elements\n",
    "        ArrayList<Integer> list = new ArrayList<>();\n",
    "        list.add(10);\n",
    "        list.add(20);\n",
    "        list.add(30);\n",
    "        list.add(40);\n",
    "        list.add(50);\n",
    "\n",
    "        System.out.println(\"Original List: \" + list);\n",
    "\n",
    "        // 2. Modify the second element (index 1) to a new value (e.g., 100)\n",
    "        list.set(1, 100);\n",
    "        System.out.println(\"After modifying second element: \" + list);\n",
    "\n",
    "        // 3. Remove the third element (index 2)\n",
    "        list.remove(2);\n",
    "        System.out.println(\"After removing third element: \" + list);\n",
    "\n",
    "        // 4. Search for a specific number (e.g., 30)\n",
    "        if (list.contains(30)) {\n",
    "            System.out.println(\"The number 30 is in the list.\");\n",
    "        } else {\n",
    "            System.out.println(\"The number 30 is not in the list.\");\n",
    "        }\n",
    "\n",
    "        // 5. Loop through the ArrayList and print each element\n",
    "        System.out.println(\"List elements:\");\n",
    "        for (int num : list) {\n",
    "            System.out.println(num);\n",
    "        }\n",
    "\n",
    "        // 6. Sort the ArrayList in ascending order\n",
    "        Collections.sort(list);\n",
    "        System.out.println(\"Sorted List: \" + list);\n",
    "\n",
    "        // 7. Print the sorted ArrayList\n",
    "        System.out.println(\"Final Sorted List: \" + list);\n",
    "    }\n",
    "}\n"
   ]
  }
 ],
 "metadata": {
  "kernelspec": {
   "display_name": "Python 3 (ipykernel)",
   "language": "python",
   "name": "python3"
  },
  "language_info": {
   "codemirror_mode": {
    "name": "ipython",
    "version": 3
   },
   "file_extension": ".py",
   "mimetype": "text/x-python",
   "name": "python",
   "nbconvert_exporter": "python",
   "pygments_lexer": "ipython3",
   "version": "3.11.9"
  }
 },
 "nbformat": 4,
 "nbformat_minor": 4
}
