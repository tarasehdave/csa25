{
 "cells": [
  {
   "cell_type": "markdown",
   "metadata": {},
   "source": [
    "## Sprint 2 Review Blog "
   ]
  },
  {
   "cell_type": "markdown",
   "metadata": {},
   "source": [
    "### Issues\n",
    "Teacher and Peer evaluation are critical to our success and improvements. Be sure to support meeting objectives by providing feedback and acting on feedback received.\n",
    "\n",
    "### Student Teaching - Part 1 Fundamentals\n",
    "Students will engage in lesson preparation, teaching, and grading. This activity is often called “Team Teach”. The process and purpose are as follows:\n",
    "\n",
    "1. Learn Units #1-#10 from the College Board.\n",
    "2. Build a lesson using Java for each of the topics provided by the teacher’s starters.\n",
    "3. The lesson should include a Tech Talk portion, popcorn hacks, and homework hacks. The lesson should NOT have more than 5 minutes of talking before engaging students in an activity (e.g., popcorn hacks).\n",
    "4. Be prepared to grade homework. This means having a plan for homework and a plan for grading the homework. You will grade on a “1-point” scale. Weight popcorn hacks and homework hacks in the grading.\n",
    "5. Lesson time will be between 20 and 30 minutes. Homework time should be about the same as lesson time.\n",
    "\n",
    "### Lesson Building\n",
    "#### Grading Guideline\n",
    "- 55% is minimum per item\n",
    "- 75% is mostly done\n",
    "- 85% is complete\n",
    "- 90% is maximum perfection"
   ]
  },
  {
   "cell_type": "markdown",
   "metadata": {},
   "source": [
    "| Assignments | Points | Grade | Evidence |\n",
    "|----------|----------|----------|----------|\n",
    "|    Pull Request |  2   | 1.75    | <img width=\"1332\" alt=\"image\" src=\"https://github.com/user-attachments/assets/d7e4ae10-ea52-424e-b400-a6274699f506\">    |\n",
    "|    Relevancy Checklist (Peer) | 2    |  1.75   |  <img width=\"1049\" alt=\"image\" src=\"https://github.com/user-attachments/assets/b6732bed-7f6a-4824-8167-d27b98afba9b\"><img width=\"991\" alt=\"image\" src=\"https://github.com/user-attachments/assets/080d9a81-356e-418d-810d-2902374de8be\">  |\n",
    "|    Lessons (Group) |  1   |  0.92   | <img width=\"1333\" alt=\"image\" src=\"https://github.com/user-attachments/assets/1de6103e-685f-4229-8952-ab677bc41b92\"> |\n",
    "|    Homework, Popcorn Hacks | 1 x 8   |     |     |\n",
    "|    Individual Contribution |  1   |  0.9   | <img width=\"1093\" alt=\"image\" src=\"https://github.com/user-attachments/assets/119d2148-a1d3-4c36-85d8-8e5bdabb4c7f\"> |\n",
    "|    Personal Notebooks and Blogs |  1   |  0.85   | <img width=\"312\" alt=\"image\" src=\"https://github.com/user-attachments/assets/32fc50be-be8e-4f57-912a-59d9004846f9\"> |\n",
    "|    Total | 15    |     |     |\n"
   ]
  },
  {
   "cell_type": "markdown",
   "metadata": {},
   "source": [
    "| **Skill**                  | **Points**    | **Grade** | **Evidence** |\n",
    "|----------------------------|---------------|-----------|--------------|\n",
    "| Work Habits (Analytics)    |   1           |    0.9       |  <img width=\"548\" alt=\"image\" src=\"https://github.com/user-attachments/assets/137221d1-453c-4f7e-aaca-7676f7f5efe8\">|\n",
    "| Team Planning (Issue)      |   1           |    0.9       |     [Team Planning Issue](https://github.com/KinetekEnergy/studentCSA/issues/8)       |\n",
    "| Presentation Memories      |   1           |     0.92      | <img width=\"537\" alt=\"image\" src=\"https://github.com/user-attachments/assets/797aa2d2-53f1-44ca-89c9-5ae285bf3c53\"> <img width=\"743\" alt=\"image\" src=\"https://github.com/user-attachments/assets/dc5807aa-2568-480d-b711-97a29df2709e\"> |\n",
    "| Grading and Feedback       |   1           |    0.85       |  [Grading Spreadsheet](https://docs.google.com/spreadsheets/d/1U10BMArtUBhoeb8jJivuY9H1p5I47xm4WPgaXtluF6Y/edit?usp=sharing)  |\n",
    "| Beyond Perfunctory         |   1           |   0.9        |  Minions theme relating to visuals, popcorn hacks, and rewards.           | \n",
    "| Total                      |   5           |   4.47        |              |"
   ]
  }
 ],
 "metadata": {
  "kernelspec": {
   "display_name": "Python 3 (ipykernel)",
   "language": "python",
   "name": "python3"
  },
  "language_info": {
   "codemirror_mode": {
    "name": "ipython",
    "version": 3
   },
   "file_extension": ".py",
   "mimetype": "text/x-python",
   "name": "python",
   "nbconvert_exporter": "python",
   "pygments_lexer": "ipython3",
   "version": "3.11.9"
  }
 },
 "nbformat": 4,
 "nbformat_minor": 4
}
