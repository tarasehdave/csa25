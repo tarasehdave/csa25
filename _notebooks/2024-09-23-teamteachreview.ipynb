{
 "cells": [
  {
   "cell_type": "markdown",
   "metadata": {},
   "source": [
    "## Sprint 2 Review Blog"
   ]
  },
  {
   "cell_type": "markdown",
   "metadata": {},
   "source": [
    "### Issues\n",
    "Teacher and Peer evaluation are critical to our success and improvements. Be sure to support meeting objectives by providing feedback and acting on feedback received.\n",
    "\n",
    "### Student Teaching - Part 1 Fundamentals\n",
    "Students will engage in lesson preparation, teaching, and grading. This activity is often called “Team Teach”. The process and purpose are as follows:\n",
    "\n",
    "1. Learn Units #1-#10 from the College Board.\n",
    "2. Build a lesson using Java for each of the topics provided by the teacher’s starters.\n",
    "3. The lesson should include a Tech Talk portion, popcorn hacks, and homework hacks. The lesson should NOT have more than 5 minutes of talking before engaging students in an activity (e.g., popcorn hacks).\n",
    "4. Be prepared to grade homework. This means having a plan for homework and a plan for grading the homework. You will grade on a “1-point” scale. Weight popcorn hacks and homework hacks in the grading.\n",
    "5. Lesson time will be between 20 and 30 minutes. Homework time should be about the same as lesson time.\n",
    "\n",
    "### Lesson Building\n",
    "#### Grading Guideline\n",
    "- 55% is minimum per item\n",
    "- 75% is mostly done\n",
    "- 85% is complete\n",
    "- 90% is maximum perfection"
   ]
  },
  {
   "cell_type": "markdown",
   "metadata": {},
   "source": [
    "| Assignments | Points | Grade | Evidence |\n",
    "|----------|----------|----------|----------|\n",
    "|    Pull Request |  2   |     |     |\n",
    "|    Relevancy Checklist (Peer) | 2    |     |     |\n",
    "|    Lessons (Group) |  1   |  0.92   |     |\n",
    "|    Homework, Popcorn Hacks | 1 x 8   |     |     |\n",
    "|    Individual Contribution |  1   |  0.9   |     |\n",
    "|    Personal Notebooks and Blogs |  1   |     |     |\n",
    "|    Total | 12    |     |     |\n"
   ]
  },
  {
   "cell_type": "markdown",
   "metadata": {
    "vscode": {
     "languageId": "java"
    }
   },
   "source": [
    "// Finding the index of the last element \n",
    "int lastIndex = array.length - 1;"
   ]
  }
 ],
 "metadata": {
  "kernelspec": {
   "display_name": "Python 3 (ipykernel)",
   "language": "python",
   "name": "python3"
  },
  "language_info": {
   "codemirror_mode": {
    "name": "ipython",
    "version": 3
   },
   "file_extension": ".py",
   "mimetype": "text/x-python",
   "name": "python",
   "nbconvert_exporter": "python",
   "pygments_lexer": "ipython3",
   "version": "3.11.9"
  }
 },
 "nbformat": 4,
 "nbformat_minor": 4
}
